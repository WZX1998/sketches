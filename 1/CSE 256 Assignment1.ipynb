{
 "cells": [
  {
   "cell_type": "markdown",
   "id": "2dbbc9fc",
   "metadata": {},
   "source": [
    "# CSE 256 Assignment1"
   ]
  },
  {
   "cell_type": "code",
   "execution_count": 43,
   "id": "8c7277d3",
   "metadata": {},
   "outputs": [],
   "source": [
    "import time\n",
    "import re\n",
    "import pandas as pd\n",
    "import numpy as np\n",
    "import tarfile\n",
    "from wordcloud import WordCloud, STOPWORDS\n",
    "import nltk.data\n",
    "from nltk.corpus import stopwords\n",
    "from sklearn.feature_extraction.text import TfidfVectorizer, CountVectorizer\n",
    "from sklearn.pipeline import Pipeline\n",
    "from sklearn.model_selection import GridSearchCV, PredefinedSplit\n",
    "from sklearn.linear_model import LogisticRegression\n",
    "from sklearn.manifold import TSNE\n",
    "import matplotlib.pyplot as plt\n",
    "import seaborn as sns; sns.set()\n",
    "from tqdm.notebook import tqdm\n",
    "from matplotlib import cm\n",
    "%matplotlib inline\n"
   ]
  },
  {
   "cell_type": "markdown",
   "id": "233737ac",
   "metadata": {},
   "source": [
    "## 1.1 Baseline of CountVectorizer"
   ]
  },
  {
   "cell_type": "code",
   "execution_count": 1,
   "id": "bcb76f73",
   "metadata": {},
   "outputs": [
    {
     "name": "stdout",
     "output_type": "stream",
     "text": [
      "Reading data\n",
      "-- train data\n",
      "sentiment/train.tsv\n",
      "4582\n",
      "-- dev data\n",
      "sentiment/dev.tsv\n",
      "458\n",
      "-- transforming data and labels\n",
      "\n",
      "Training classifier\n",
      "\n",
      "Evaluating\n",
      "  Accuracy on train  is: 0.9821038847664775\n",
      "  Accuracy on dev  is: 0.777292576419214\n"
     ]
    }
   ],
   "source": [
    "!python sentiment.py"
   ]
  },
  {
   "cell_type": "markdown",
   "id": "8c65feeb",
   "metadata": {},
   "source": [
    "### 1.1.1 Load data"
   ]
  },
  {
   "cell_type": "code",
   "execution_count": 3,
   "id": "5c5018f5",
   "metadata": {},
   "outputs": [],
   "source": [
    "trainfname = './data/sentiment/train.tsv'\n",
    "devfname = './data/sentiment/dev.tsv'\n",
    "unlabeledfname = './data/sentiment/unlabeled.tsv'\n",
    "outfname = \"data/sentiment-pred.csv\""
   ]
  },
  {
   "cell_type": "code",
   "execution_count": 5,
   "id": "a5c98dfc",
   "metadata": {},
   "outputs": [
    {
     "data": {
      "text/html": [
       "<div>\n",
       "<style scoped>\n",
       "    .dataframe tbody tr th:only-of-type {\n",
       "        vertical-align: middle;\n",
       "    }\n",
       "\n",
       "    .dataframe tbody tr th {\n",
       "        vertical-align: top;\n",
       "    }\n",
       "\n",
       "    .dataframe thead th {\n",
       "        text-align: right;\n",
       "    }\n",
       "</style>\n",
       "<table border=\"1\" class=\"dataframe\">\n",
       "  <thead>\n",
       "    <tr style=\"text-align: right;\">\n",
       "      <th></th>\n",
       "      <th>label</th>\n",
       "      <th>review</th>\n",
       "    </tr>\n",
       "  </thead>\n",
       "  <tbody>\n",
       "    <tr>\n",
       "      <th>0</th>\n",
       "      <td>POSITIVE</td>\n",
       "      <td>Went last night for the first time with my boy...</td>\n",
       "    </tr>\n",
       "    <tr>\n",
       "      <th>1</th>\n",
       "      <td>POSITIVE</td>\n",
       "      <td>I have gone to Silvercreek several times -  fo...</td>\n",
       "    </tr>\n",
       "    <tr>\n",
       "      <th>2</th>\n",
       "      <td>NEGATIVE</td>\n",
       "      <td>This place is an absolute joke! I don't even k...</td>\n",
       "    </tr>\n",
       "    <tr>\n",
       "      <th>3</th>\n",
       "      <td>NEGATIVE</td>\n",
       "      <td>The  food  is  NOT  good , but  the  music  is...</td>\n",
       "    </tr>\n",
       "    <tr>\n",
       "      <th>4</th>\n",
       "      <td>POSITIVE</td>\n",
       "      <td>This is definitely one of my favourite spots f...</td>\n",
       "    </tr>\n",
       "  </tbody>\n",
       "</table>\n",
       "</div>"
      ],
      "text/plain": [
       "      label                                             review\n",
       "0  POSITIVE  Went last night for the first time with my boy...\n",
       "1  POSITIVE  I have gone to Silvercreek several times -  fo...\n",
       "2  NEGATIVE  This place is an absolute joke! I don't even k...\n",
       "3  NEGATIVE  The  food  is  NOT  good , but  the  music  is...\n",
       "4  POSITIVE  This is definitely one of my favourite spots f..."
      ]
     },
     "execution_count": 5,
     "metadata": {},
     "output_type": "execute_result"
    }
   ],
   "source": [
    "train = pd.read_csv(trainfname, sep='\\t', header=None, names=['label', 'review'])  # read train\n",
    "dev = pd.read_csv(devfname, sep='\\t', header=None, names=['label', 'review'])  # read dev\n",
    "dev = dev.dropna()\n",
    "train.head(5)"
   ]
  },
  {
   "cell_type": "code",
   "execution_count": 6,
   "id": "efde917c",
   "metadata": {},
   "outputs": [],
   "source": [
    "tarfname = './data/sentiment.tar.gz'\n",
    "unlabeledname = 'sentiment/unlabeled.tsv'\n",
    "tar = tarfile.open(tarfname, \"r:gz\")"
   ]
  },
  {
   "cell_type": "code",
   "execution_count": null,
   "id": "facd2695",
   "metadata": {},
   "outputs": [],
   "source": []
  },
  {
   "cell_type": "markdown",
   "id": "07294602",
   "metadata": {},
   "source": [
    "### 1.1.2 Comparing CountVectorizer and TfidVectorizer"
   ]
  },
  {
   "cell_type": "code",
   "execution_count": 9,
   "id": "f40d1097",
   "metadata": {},
   "outputs": [],
   "source": [
    "def display_scores(vectorizer, tfidf_result):\n",
    "    # http://stackoverflow.com/questions/16078015/\n",
    "    scores = zip(vectorizer.get_feature_names(),\n",
    "                 np.asarray(tfidf_result.sum(axis=0)).ravel())\n",
    "    sorted_scores = sorted(scores, key=lambda x: x[1], reverse=True)\n",
    "    return pd.DataFrame(sorted_scores, columns=[\"features\", \"weight\"])"
   ]
  },
  {
   "cell_type": "code",
   "execution_count": 10,
   "id": "696354f4",
   "metadata": {},
   "outputs": [],
   "source": [
    "vec1 = CountVectorizer().fit(train[\"review\"])\n",
    "vec2 = TfidfVectorizer().fit(train[\"review\"])"
   ]
  },
  {
   "cell_type": "code",
   "execution_count": 11,
   "id": "294aa3ed",
   "metadata": {},
   "outputs": [],
   "source": [
    "score1 = display_scores(vec1, vec1.transform(train[\"review\"]))\n",
    "score2 = display_scores(vec2, vec2.transform(train[\"review\"]))"
   ]
  },
  {
   "cell_type": "code",
   "execution_count": 315,
   "id": "8ad85162",
   "metadata": {},
   "outputs": [
    {
     "data": {
      "image/png": "[encoded data removed]",
      "text/plain": [
       "<Figure size 864x648 with 2 Axes>"
      ]
     },
     "metadata": {},
     "output_type": "display_data"
    }
   ],
   "source": [
    "scores = [score1, score2]\n",
    "titles = [\"CountVectorizer Feature Weights\", \"TfidfVectorizer Feature Weights\"]\n",
    "fig = plt.figure(figsize=(12, 9), facecolor=\"w\")\n",
    "num = len(scores)\n",
    "for i, score in enumerate(scores):\n",
    "    ax = fig.add_subplot(1, num, i+1)\n",
    "    ax.spines[\"top\"].set_visible(False)\n",
    "    ax.spines[\"right\"].set_visible(False)\n",
    "    ax.set_frame_on(False)\n",
    "    ax.get_xaxis().tick_bottom()\n",
    "    ax.get_yaxis().tick_left()\n",
    "    ax.set_title(titles[i], fontsize=16)\n",
    "    ax.ticklabel_format(axis='x', style='sci', scilimits=(-2,2))\n",
    "    ax.barh(score[\"features\"][:20], score[\"weight\"][:20], align='center', color='#3F5D7D')\n",
    "    plt.subplots_adjust(bottom=0.09, right=0.97, left=0.15, top=0.95, wspace=0.52)\n",
    "plt.savefig('./pics/pic2.png')\n",
    "plt.show()\n"
   ]
  },
  {
   "cell_type": "markdown",
   "id": "0121d807",
   "metadata": {},
   "source": [
    "#### Conclusion:\n",
    "Since our goal is predict the sentiment(POSITIVE or NEGATIVE) behind reviews, I want to extract the feature which can assemble the emotion or highly related to this emotion. In another hand, I don’t want to some words whose occurrence is huge(like article) but with no relationship with the emotion to interfere my vectorizer. So I choose TfidVectorizer to replace the original CountVectorizer. \n",
    "\n",
    "The figure above shows the difference between these two methods, we can see that in CountVectorizer, words that occurs a commonly like \"the\", \"and\" weigh greatly. When we use TfidfVectorizer, we soften the weigh of these words. Although \"the\" still takes the first place, the weight of it is more similar to other words’ weight in TfidfVectorizer."
   ]
  },
  {
   "cell_type": "code",
   "execution_count": null,
   "id": "5a9fecc2",
   "metadata": {},
   "outputs": [],
   "source": []
  },
  {
   "cell_type": "markdown",
   "id": "69114a1c",
   "metadata": {},
   "source": [
    "## 2.1 Guided Feature Engineering"
   ]
  },
  {
   "cell_type": "code",
   "execution_count": 18,
   "id": "3b911872",
   "metadata": {},
   "outputs": [],
   "source": [
    "tfidf_vectorizer = TfidfVectorizer().fit(train[\"review\"])"
   ]
  },
  {
   "cell_type": "code",
   "execution_count": 23,
   "id": "0d078bd5",
   "metadata": {},
   "outputs": [],
   "source": [
    "X_train = tfidf_vectorizer.transform(train['review'])\n",
    "y_train = train['label']\n",
    "X_dev = tfidf_vectorizer.transform(dev['review'])\n",
    "y_dev = dev['label']"
   ]
  },
  {
   "cell_type": "code",
   "execution_count": 20,
   "id": "8f4161f4",
   "metadata": {},
   "outputs": [
    {
     "data": {
      "text/plain": [
       "LogisticRegression(max_iter=10000, random_state=0)"
      ]
     },
     "execution_count": 20,
     "metadata": {},
     "output_type": "execute_result"
    }
   ],
   "source": [
    "cls = LogisticRegression(random_state=0, solver='lbfgs', max_iter=10000)\n",
    "cls.fit(X_train, y_train)"
   ]
  },
  {
   "cell_type": "code",
   "execution_count": 288,
   "id": "a6af6ea4",
   "metadata": {},
   "outputs": [
    {
     "name": "stdout",
     "output_type": "stream",
     "text": [
      "(0.9020078568310781, 0.7690476190476191)\n"
     ]
    }
   ],
   "source": [
    "cls.score(X_train, y_train), cls.score(X_dev, y_dev)"
   ]
  },
  {
   "cell_type": "markdown",
   "id": "efa2c03e",
   "metadata": {},
   "source": [
    "The accuracy of train set and dev set is (0.9020078568310781, 0.7690476190476191).  \n",
    "I used default settings on both models, next I will tune hyperparamters to get better result on dev set."
   ]
  },
  {
   "cell_type": "markdown",
   "id": "8b1fb533",
   "metadata": {},
   "source": [
    "### 2.1.1 Tuning hyperparamters"
   ]
  },
  {
   "cell_type": "markdown",
   "id": "7b052399",
   "metadata": {},
   "source": [
    "I tested hyperparameters: $ngram, C$\n",
    "\n",
    "$ngram = (m, n)$ means we take at least $m$ words and at most $n$ words in a whole as a feature, in this case, neither take $m$ and $n$ too small nor too big. That means We don’t want to make the number of features too large and still want to keep the relationship between words. I tested it on the range of \n",
    "\n",
    "$C$ in LogisticRegression model, as said in documentation of sklean, the smaller the value of $C$, the higher the stronger regularization is. So it affects the model performance to some extent."
   ]
  },
  {
   "cell_type": "code",
   "execution_count": 28,
   "id": "b7aa9167",
   "metadata": {
    "scrolled": true
   },
   "outputs": [
    {
     "data": {
      "application/vnd.jupyter.widget-view+json": {
       "model_id": "a4a971f58da1438493fe81940bccffd4",
       "version_major": 2,
       "version_minor": 0
      },
      "text/plain": [
       "  0%|          | 0/16 [00:00<?, ?it/s]"
      ]
     },
     "metadata": {},
     "output_type": "display_data"
    },
    {
     "name": "stdout",
     "output_type": "stream",
     "text": [
      "[(0.9020078568310781, 0.7690476190476191), (0.9570056743780009, 0.7761904761904762), (0.9801396769969446, 0.7761904761904762), (0.990615451767787, 0.7666666666666667), (0.9975993016150153, 0.719047619047619), (0.9995635093845482, 0.7309523809523809), (0.9997817546922741, 0.6642857142857143), (0.9052815364469664, 0.7666666666666667), (0.9615888258402444, 0.7761904761904762), (0.9821038847664775, 0.7785714285714286), (0.9921431689218682, 0.7690476190476191), (0.9978175469227412, 0.7214285714285714), (0.9997817546922741, 0.7285714285714285), (0.9997817546922741, 0.6642857142857143), (0.9076822348319511, 0.7666666666666667), (0.9644260148406809, 0.7761904761904762), (0.9851593190746399, 0.7785714285714286), (0.9938891313836753, 0.7738095238095238), (0.9984722828459188, 0.7214285714285714), (1.0, 0.7285714285714285), (0.9997817546922741, 0.6642857142857143), (0.9105194238323876, 0.7619047619047619), (0.9679179397642951, 0.780952380952381), (0.9871235268441728, 0.7785714285714286), (0.9949803579223047, 0.7761904761904762), (0.9984722828459188, 0.7238095238095238), (1.0, 0.7261904761904762), (0.9997817546922741, 0.6642857142857143), (0.9118288956787429, 0.7619047619047619), (0.9716281099956351, 0.780952380952381), (0.988651243998254, 0.780952380952381), (0.9965080750763858, 0.7761904761904762), (0.9986905281536447, 0.7285714285714285), (1.0, 0.7261904761904762), (0.9997817546922741, 0.669047619047619), (0.9159755565255348, 0.7642857142857142), (0.9735923177651681, 0.7833333333333333), (0.9897424705368835, 0.7833333333333333), (0.9973810563072893, 0.7761904761904762), (0.9989087734613706, 0.7309523809523809), (1.0, 0.7238095238095238), (0.9997817546922741, 0.669047619047619), (0.9181580096027936, 0.7642857142857142), (0.9744652989960716, 0.7833333333333333), (0.9910519423832388, 0.7833333333333333), (0.998254037538193, 0.7761904761904762), (0.9989087734613706, 0.7309523809523809), (1.0, 0.7261904761904762), (0.9997817546922741, 0.669047619047619), (0.92099519860323, 0.7619047619047619), (0.9753382802269751, 0.7857142857142857), (0.9917066783064165, 0.7833333333333333), (0.998254037538193, 0.7761904761904762), (0.9993452640768223, 0.7309523809523809), (1.0, 0.7261904761904762), (0.9997817546922741, 0.669047619047619), (0.9238323876036665, 0.7666666666666667), (0.9783937145351375, 0.7857142857142857), (0.9927979048450458, 0.7833333333333333), (0.998254037538193, 0.7761904761904762), (0.9995635093845482, 0.7309523809523809), (1.0, 0.7261904761904762), (0.9997817546922741, 0.669047619047619), (0.9260148406809253, 0.7666666666666667), (0.9799214316892186, 0.7857142857142857), (0.9927979048450458, 0.7857142857142857), (0.998254037538193, 0.7738095238095238), (0.9995635093845482, 0.7333333333333333), (1.0, 0.7261904761904762), (0.9997817546922741, 0.669047619047619), (0.9279790484504583, 0.7714285714285715), (0.9818856394587516, 0.7857142857142857), (0.994543867306853, 0.7857142857142857), (0.9984722828459188, 0.7738095238095238), (0.9995635093845482, 0.7333333333333333), (1.0, 0.7285714285714285), (0.9997817546922741, 0.6666666666666666), (0.9308162374508948, 0.7738095238095238), (0.9827586206896551, 0.7857142857142857), (0.9951986032300305, 0.7857142857142857), (0.9984722828459188, 0.7738095238095238), (0.9997817546922741, 0.7333333333333333), (1.0, 0.7285714285714285), (0.9997817546922741, 0.6666666666666666), (0.9334351811436055, 0.7761904761904762), (0.984941073766914, 0.7833333333333333), (0.9956350938454823, 0.7880952380952381), (0.9984722828459188, 0.7738095238095238), (0.9997817546922741, 0.7357142857142858), (1.0, 0.7285714285714285), (0.9997817546922741, 0.6666666666666666), (0.9356176342208643, 0.7785714285714286), (0.9862505456132693, 0.7857142857142857), (0.99628982976866, 0.7857142857142857), (0.9989087734613706, 0.7738095238095238), (0.9997817546922741, 0.7333333333333333), (1.0, 0.7285714285714285), (0.9997817546922741, 0.669047619047619), (0.9375818419903972, 0.780952380952381), (0.9871235268441728, 0.7857142857142857), (0.9969445656918376, 0.7857142857142857), (0.9989087734613706, 0.7785714285714286), (0.9997817546922741, 0.7333333333333333), (1.0, 0.7285714285714285), (0.9997817546922741, 0.669047619047619), (0.9391095591444784, 0.780952380952381), (0.9879965080750764, 0.7857142857142857), (0.9978175469227412, 0.7857142857142857), (0.9989087734613706, 0.7785714285714286), (0.9997817546922741, 0.7333333333333333), (1.0, 0.7309523809523809), (0.9997817546922741, 0.6666666666666666)]\n"
     ]
    }
   ],
   "source": [
    "res = []\n",
    "ngram = [(1, 1), (1, 2), (1, 3), (1, 4), (2, 3), (2, 4), (3, 4)]\n",
    "for c in tqdm(np.arange(1, 2.6, 0.1)):\n",
    "    for n in ngram:\n",
    "        tfidf_vectorizer = TfidfVectorizer(ngram_range=n).fit(train[\"review\"])\n",
    "        X_train = tfidf_vectorizer.transform(train['review'])\n",
    "        y_train = train['label']\n",
    "        X_dev = tfidf_vectorizer.transform(dev['review'])\n",
    "        y_dev = dev['label']\n",
    "        cls = LogisticRegression(random_state=0, solver='lbfgs', max_iter=10000 ,C=c)\n",
    "        cls.fit(X_train, y_train)\n",
    "        res.append((cls.score(X_train, y_train), cls.score(X_dev, y_dev)))\n",
    "print(res)"
   ]
  },
  {
   "cell_type": "code",
   "execution_count": 38,
   "id": "72415cbc",
   "metadata": {
    "scrolled": true
   },
   "outputs": [
    {
     "name": "stdout",
     "output_type": "stream",
     "text": [
      "(16, 7)\n",
      "[[0.76904762 0.77619048 0.77619048 0.76666667 0.71904762 0.73095238\n",
      "  0.66428571]\n",
      " [0.76666667 0.77619048 0.77857143 0.76904762 0.72142857 0.72857143\n",
      "  0.66428571]\n",
      " [0.76666667 0.77619048 0.77857143 0.77380952 0.72142857 0.72857143\n",
      "  0.66428571]\n",
      " [0.76190476 0.78095238 0.77857143 0.77619048 0.72380952 0.72619048\n",
      "  0.66428571]\n",
      " [0.76190476 0.78095238 0.78095238 0.77619048 0.72857143 0.72619048\n",
      "  0.66904762]\n",
      " [0.76428571 0.78333333 0.78333333 0.77619048 0.73095238 0.72380952\n",
      "  0.66904762]\n",
      " [0.76428571 0.78333333 0.78333333 0.77619048 0.73095238 0.72619048\n",
      "  0.66904762]\n",
      " [0.76190476 0.78571429 0.78333333 0.77619048 0.73095238 0.72619048\n",
      "  0.66904762]\n",
      " [0.76666667 0.78571429 0.78333333 0.77619048 0.73095238 0.72619048\n",
      "  0.66904762]\n",
      " [0.76666667 0.78571429 0.78571429 0.77380952 0.73333333 0.72619048\n",
      "  0.66904762]\n",
      " [0.77142857 0.78571429 0.78571429 0.77380952 0.73333333 0.72857143\n",
      "  0.66666667]\n",
      " [0.77380952 0.78571429 0.78571429 0.77380952 0.73333333 0.72857143\n",
      "  0.66666667]\n",
      " [0.77619048 0.78333333 0.78809524 0.77380952 0.73571429 0.72857143\n",
      "  0.66666667]\n",
      " [0.77857143 0.78571429 0.78571429 0.77380952 0.73333333 0.72857143\n",
      "  0.66904762]\n",
      " [0.78095238 0.78571429 0.78571429 0.77857143 0.73333333 0.72857143\n",
      "  0.66904762]\n",
      " [0.78095238 0.78571429 0.78571429 0.77857143 0.73333333 0.73095238\n",
      "  0.66666667]]\n"
     ]
    }
   ],
   "source": [
    "dev_res = [r[1] for r in res]\n",
    "dev_res = np.array(dev_res).reshape((-1, 7))\n",
    "print(dev_res.shape)\n",
    "print(dev_res)"
   ]
  },
  {
   "cell_type": "code",
   "execution_count": 316,
   "id": "98009fed",
   "metadata": {},
   "outputs": [
    {
     "data": {
      "image/png": "[encoded data removed]",
      "text/plain": [
       "<Figure size 1080x576 with 1 Axes>"
      ]
     },
     "metadata": {
      "needs_background": "light"
     },
     "output_type": "display_data"
    }
   ],
   "source": [
    "x = np.arange(1, 2.6, 0.1)\n",
    "plt.figure(figsize=(15,8))\n",
    "for i in range(len(ngram)):\n",
    "    plt.plot(x, dev_res[:,i], color = cm.jet(1.*i/7), label = str(ngram[i]))\n",
    "    \n",
    "plt.plot(x, [0.777292576419214]*16, color = cm.jet(1.*10/7), label = 'Baseline')\n",
    "plt.xlabel('C')\n",
    "plt.ylabel('Accuracy')\n",
    "plt.grid(alpha=0.3)\n",
    "plt.legend(loc='upper right')\n",
    "plt.savefig('./pics/pic3.png')\n",
    "plt.show()\n"
   ]
  },
  {
   "cell_type": "code",
   "execution_count": 287,
   "id": "5a8a6464",
   "metadata": {},
   "outputs": [
    {
     "name": "stdout",
     "output_type": "stream",
     "text": [
      "        (1, 1)    (1, 2)    (1, 3)    (1, 4)    (2, 3)    (2, 4)    (3, 4)\n",
      "1.00  0.769048  0.776190  0.776190  0.766667  0.719048  0.730952  0.664286\n",
      "1.10  0.766667  0.776190  0.778571  0.769048  0.721429  0.728571  0.664286\n",
      "1.20  0.766667  0.776190  0.778571  0.773810  0.721429  0.728571  0.664286\n",
      "1.30  0.761905  0.780952  0.778571  0.776190  0.723810  0.726190  0.664286\n",
      "1.40  0.761905  0.780952  0.780952  0.776190  0.728571  0.726190  0.669048\n",
      "1.50  0.764286  0.783333  0.783333  0.776190  0.730952  0.723810  0.669048\n",
      "1.60  0.764286  0.783333  0.783333  0.776190  0.730952  0.726190  0.669048\n",
      "1.70  0.761905  0.785714  0.783333  0.776190  0.730952  0.726190  0.669048\n",
      "1.80  0.766667  0.785714  0.783333  0.776190  0.730952  0.726190  0.669048\n",
      "1.90  0.766667  0.785714  0.785714  0.773810  0.733333  0.726190  0.669048\n",
      "2.00  0.771429  0.785714  0.785714  0.773810  0.733333  0.728571  0.666667\n",
      "2.10  0.773810  0.785714  0.785714  0.773810  0.733333  0.728571  0.666667\n",
      "2.20  0.776190  0.783333  0.788095  0.773810  0.735714  0.728571  0.666667\n",
      "2.30  0.778571  0.785714  0.785714  0.773810  0.733333  0.728571  0.669048\n",
      "2.40  0.780952  0.785714  0.785714  0.778571  0.733333  0.728571  0.669048\n",
      "2.50  0.780952  0.785714  0.785714  0.778571  0.733333  0.730952  0.666667\n"
     ]
    }
   ],
   "source": [
    "df = pd.DataFrame(dev_res, columns = [str(n) for n in ngram], index = [\"{:.2f}\".format(ind) for ind in x])\n",
    "print(df)"
   ]
  },
  {
   "cell_type": "markdown",
   "id": "333df2e3",
   "metadata": {},
   "source": [
    "### Conclusion:\n",
    "As we can see in the figure and table above:\n",
    "1. As the increasing of $m, n$ in $ngram$ ($ngram = (m, n)$), the accuracy is decreasing when $m > 1$.\n",
    "2. The value of $C$ doesn't influence the accuracy greatly.\n",
    "3. The best hyperparameter is $ngram = (1, 3)$, $C = 2.2$.\n",
    "4. The best accuracy on dev data set is **0.788095**."
   ]
  },
  {
   "cell_type": "code",
   "execution_count": null,
   "id": "561e6e8c",
   "metadata": {},
   "outputs": [],
   "source": []
  },
  {
   "cell_type": "code",
   "execution_count": null,
   "id": "afd9d4db",
   "metadata": {},
   "outputs": [],
   "source": []
  },
  {
   "cell_type": "markdown",
   "id": "d02911d3",
   "metadata": {},
   "source": [
    "## 2.2 Independent Feature Engineering"
   ]
  },
  {
   "cell_type": "markdown",
   "id": "e0f750be",
   "metadata": {},
   "source": [
    "### 2.2.1 Preprocess texts\n",
    "There are many features contain digits and punctuations. So I use regex expression to filter some features(words) with number, punctuations.  \n",
    "The baseline has 9882 features and after I remove some, the number of features is 9665. The original model has some features like \"000\", \"01am\" which don’t occur in model after preprocesses."
   ]
  },
  {
   "cell_type": "code",
   "execution_count": 60,
   "id": "edae6b23",
   "metadata": {},
   "outputs": [],
   "source": [
    "def preprocessor(text):\n",
    "    text = re.sub(r\"u'\", '', text)\n",
    "    text = re.sub(r'^\\s*\\+{3}.*\\+{3}\\s*$', '', text,\n",
    "                  flags=re.DOTALL | re.MULTILINE | re.UNICODE)\n",
    "    text = re.sub(r'^\\s*```.*?```\\s*$', '', text,\n",
    "                  flags=re.DOTALL | re.MULTILINE)\n",
    "    text = re.sub(r'`[^`]*`', '', text)\n",
    "    text = re.sub(r'<[^>]*>', '', text, flags=re.UNICODE |\n",
    "                  re.DOTALL | re.MULTILINE)\n",
    "    text = text.replace('<!--more--><!--ad-->', '')\n",
    "    text = re.sub(r'\\d*', '', text)\n",
    "    text = text.lower()\n",
    "    text = re.sub(r'[\\W]+', ' ', text.lower(), flags=re.UNICODE)\n",
    "\n",
    "    return text"
   ]
  },
  {
   "cell_type": "code",
   "execution_count": 291,
   "id": "c270fa29",
   "metadata": {},
   "outputs": [
    {
     "data": {
      "text/plain": [
       "(4582, 9882)"
      ]
     },
     "execution_count": 291,
     "metadata": {},
     "output_type": "execute_result"
    }
   ],
   "source": [
    "TfidfVectorizer().fit(train[\"review\"]).transform(train['review']).shape"
   ]
  },
  {
   "cell_type": "code",
   "execution_count": 294,
   "id": "b22a2c9b",
   "metadata": {},
   "outputs": [
    {
     "data": {
      "text/plain": [
       "(4582, 9665)"
      ]
     },
     "execution_count": 294,
     "metadata": {},
     "output_type": "execute_result"
    }
   ],
   "source": [
    "TfidfVectorizer().fit([preprocessor(t) for t in train[\"review\"]]).transform(train['review']).shape"
   ]
  },
  {
   "cell_type": "code",
   "execution_count": 317,
   "id": "bee3c02d",
   "metadata": {},
   "outputs": [
    {
     "data": {
      "image/png": "[encoded data removed]",
      "text/plain": [
       "<Figure size 432x288 with 1 Axes>"
      ]
     },
     "metadata": {
      "needs_background": "light"
     },
     "output_type": "display_data"
    }
   ],
   "source": [
    "x_lable = ['Original', 'Preprocessed']\n",
    "features = [9882, 9665]\n",
    "plt.ylabel('Feature number')\n",
    "plt.bar(x_lable, features)\n",
    "plt.savefig('./pics/pic5.png')\n",
    "plt.show()"
   ]
  },
  {
   "cell_type": "code",
   "execution_count": 73,
   "id": "46541b41",
   "metadata": {},
   "outputs": [],
   "source": [
    "tfidf_vectorizer = TfidfVectorizer(decode_error='strict', lowercase=True, ngram_range=(1, 3), \\\n",
    "          strip_accents='unicode', sublinear_tf=True,use_idf=True).fit([preprocessor(t) for t in train[\"review\"]])"
   ]
  },
  {
   "cell_type": "code",
   "execution_count": 75,
   "id": "c49e1dd5",
   "metadata": {},
   "outputs": [
    {
     "data": {
      "text/plain": [
       "LogisticRegression(C=2.2, max_iter=10000, random_state=0)"
      ]
     },
     "execution_count": 75,
     "metadata": {},
     "output_type": "execute_result"
    }
   ],
   "source": [
    "cls = LogisticRegression(random_state=0, solver='lbfgs', max_iter=10000 ,C=2.2)\n",
    "cls.fit(X_train, y_train)"
   ]
  },
  {
   "cell_type": "code",
   "execution_count": 91,
   "id": "8318fb18",
   "metadata": {},
   "outputs": [
    {
     "data": {
      "text/plain": [
       "(0.9875600174596246, 0.7952380952380952)"
      ]
     },
     "execution_count": 91,
     "metadata": {},
     "output_type": "execute_result"
    }
   ],
   "source": [
    "cls.score(X_train, y_train), cls.score(X_dev, y_dev)"
   ]
  },
  {
   "cell_type": "markdown",
   "id": "bf9e7b81",
   "metadata": {},
   "source": [
    "#### Conclusion:\n",
    "I used the same hyperparamters above, the dev accuracy becomes higher: **0.7952380952380952**."
   ]
  },
  {
   "cell_type": "markdown",
   "id": "99ab86a0",
   "metadata": {},
   "source": [
    "----\n",
    "I used Gridsearch method to find the model which performs best on dev part."
   ]
  },
  {
   "cell_type": "code",
   "execution_count": 61,
   "id": "5b8df959",
   "metadata": {},
   "outputs": [
    {
     "data": {
      "text/plain": [
       "(5002, 2)"
      ]
     },
     "execution_count": 61,
     "metadata": {},
     "output_type": "execute_result"
    }
   ],
   "source": [
    "total = pd.concat([train, dev])  # concat train set and dev set\n",
    "total.shape"
   ]
  },
  {
   "cell_type": "code",
   "execution_count": 62,
   "id": "fa4c96de",
   "metadata": {},
   "outputs": [],
   "source": [
    "# Since we have split train set and dev set, we have to make it together\n",
    "test_folder = np.zeros(total.shape[0])\n",
    "test_folder[:train.shape[0]] = -1\n",
    "ps = PredefinedSplit(test_folder)"
   ]
  },
  {
   "cell_type": "code",
   "execution_count": 86,
   "id": "aa920872",
   "metadata": {},
   "outputs": [],
   "source": [
    "pipeline = Pipeline([\n",
    "    ('tfidf', TfidfVectorizer(strip_accents='unicode',\n",
    "        use_idf=True,\n",
    "        smooth_idf=True,\n",
    "        sublinear_tf=True)),\n",
    "    ('clf', LogisticRegression(random_state=0, solver='lbfgs', max_iter=10000)),\n",
    "])\n",
    "parameters = {\n",
    "    'tfidf__stop_words': (None, 'english'),\n",
    "    'tfidf__preprocessor': (None, preprocessor),\n",
    "    'tfidf__ngram_range': ngram,\n",
    "    'clf__C': np.arange(1, 2.6, 0.1)\n",
    "}\n"
   ]
  },
  {
   "cell_type": "code",
   "execution_count": 87,
   "id": "e2b3220c",
   "metadata": {
    "scrolled": true
   },
   "outputs": [
    {
     "name": "stdout",
     "output_type": "stream",
     "text": [
      "Fitting 1 folds for each of 448 candidates, totalling 448 fits\n",
      "[CV 1/1] END clf__C=1.0, tfidf__ngram_range=(1, 1), tfidf__preprocessor=None, tfidf__stop_words=None;, score=0.769 total time=   0.3s\n",
      "[CV 1/1] END clf__C=1.0, tfidf__ngram_range=(1, 3), tfidf__preprocessor=None, tfidf__stop_words=None;, score=0.781 total time=   2.0s\n"
     ]
    },
    {
     "name": "stderr",
     "output_type": "stream",
     "text": [
      "/Users/zixuanwang/opt/anaconda3/lib/python3.9/site-packages/joblib/externals/loky/process_executor.py:702: UserWarning: A worker stopped while some jobs were given to the executor. This can be caused by a too short worker timeout or by a memory leak.\n",
      "  warnings.warn(\n"
     ]
    },
    {
     "name": "stdout",
     "output_type": "stream",
     "text": [
      "[CV 1/1] END clf__C=1.0, tfidf__ngram_range=(1, 1), tfidf__preprocessor=None, tfidf__stop_words=english;, score=0.764 total time=   0.3s\n",
      "[CV 1/1] END clf__C=1.0, tfidf__ngram_range=(1, 3), tfidf__preprocessor=None, tfidf__stop_words=english;, score=0.752 total time=   1.1s\n",
      "[CV 1/1] END clf__C=1.0, tfidf__ngram_range=(2, 3), tfidf__preprocessor=None, tfidf__stop_words=None;, score=0.729 total time=   2.0s\n",
      "[CV 1/1] END clf__C=1.0, tfidf__ngram_range=(1, 1), tfidf__preprocessor=<function preprocessor at 0x7f9310a62ee0>, tfidf__stop_words=None;, score=0.774 total time=   0.7s\n",
      "[CV 1/1] END clf__C=1.0, tfidf__ngram_range=(1, 4), tfidf__preprocessor=None, tfidf__stop_words=None;, score=0.781 total time=   3.1s\n",
      "[CV 1/1] END clf__C=1.0, tfidf__ngram_range=(1, 2), tfidf__preprocessor=<function preprocessor at 0x7fd730beaee0>, tfidf__stop_words=english;, score=0.752 total time=   1.0s\n",
      "[CV 1/1] END clf__C=1.0, tfidf__ngram_range=(1, 4), tfidf__preprocessor=<function preprocessor at 0x7fd6e02dddc0>, tfidf__stop_words=None;, score=0.779 total time=   3.5s\n",
      "[CV 1/1] END clf__C=1.0, tfidf__ngram_range=(1, 1), tfidf__preprocessor=<function preprocessor at 0x7f96609daee0>, tfidf__stop_words=english;, score=0.764 total time=   0.7s\n",
      "[CV 1/1] END clf__C=1.0, tfidf__ngram_range=(1, 3), tfidf__preprocessor=<function preprocessor at 0x7f965046cdc0>, tfidf__stop_words=english;, score=0.750 total time=   1.5s\n",
      "[CV 1/1] END clf__C=1.0, tfidf__ngram_range=(2, 3), tfidf__preprocessor=None, tfidf__stop_words=english;, score=0.667 total time=   1.2s\n",
      "[CV 1/1] END clf__C=1.0, tfidf__ngram_range=(2, 4), tfidf__preprocessor=None, tfidf__stop_words=None;, score=0.731 total time=   2.3s\n",
      "[CV 1/1] END clf__C=1.0, tfidf__ngram_range=(1, 2), tfidf__preprocessor=<function preprocessor at 0x7fc930c32ee0>, tfidf__stop_words=None;, score=0.776 total time=   1.3s\n",
      "[CV 1/1] END clf__C=1.0, tfidf__ngram_range=(1, 4), tfidf__preprocessor=<function preprocessor at 0x7fc931359dc0>, tfidf__stop_words=english;, score=0.748 total time=   2.2s\n",
      "[CV 1/1] END clf__C=1.0, tfidf__ngram_range=(2, 4), tfidf__preprocessor=None, tfidf__stop_words=english;, score=0.667 total time=   1.3s\n",
      "[CV 1/1] END clf__C=1.0, tfidf__ngram_range=(3, 4), tfidf__preprocessor=<function preprocessor at 0x7fc930df7310>, tfidf__stop_words=None;, score=0.664 total time=   1.8s\n",
      "[CV 1/1] END clf__C=1.1, tfidf__ngram_range=(1, 1), tfidf__preprocessor=None, tfidf__stop_words=None;, score=0.771 total time=   0.3s\n",
      "[CV 1/1] END clf__C=1.1, tfidf__ngram_range=(1, 2), tfidf__preprocessor=<function preprocessor at 0x7fdd18215dc0>, tfidf__stop_words=english;, score=0.755 total time=   1.1s\n",
      "[CV 1/1] END clf__C=1.1, tfidf__ngram_range=(1, 4), tfidf__preprocessor=<function preprocessor at 0x7fdd182123a0>, tfidf__stop_words=None;, score=0.781 total time=   3.6s\n",
      "[CV 1/1] END clf__C=1.0, tfidf__ngram_range=(1, 2), tfidf__preprocessor=None, tfidf__stop_words=None;, score=0.781 total time=   0.8s\n",
      "[CV 1/1] END clf__C=1.0, tfidf__ngram_range=(1, 4), tfidf__preprocessor=None, tfidf__stop_words=english;, score=0.757 total time=   1.6s\n",
      "[CV 1/1] END clf__C=1.0, tfidf__ngram_range=(2, 3), tfidf__preprocessor=<function preprocessor at 0x7fefe11813a0>, tfidf__stop_words=None;, score=0.738 total time=   2.2s\n",
      "[CV 1/1] END clf__C=1.0, tfidf__ngram_range=(3, 4), tfidf__preprocessor=None, tfidf__stop_words=english;, score=0.533 total time=   0.6s\n",
      "[CV 1/1] END clf__C=1.1, tfidf__ngram_range=(1, 1), tfidf__preprocessor=None, tfidf__stop_words=english;, score=0.767 total time=   0.2s\n",
      "[CV 1/1] END clf__C=1.1, tfidf__ngram_range=(1, 1), tfidf__preprocessor=<function preprocessor at 0x7fefe11810d0>, tfidf__stop_words=None;, score=0.774 total time=   0.6s\n",
      "[CV 1/1] END clf__C=1.1, tfidf__ngram_range=(1, 2), tfidf__preprocessor=None, tfidf__stop_words=None;, score=0.781 total time=   0.8s\n",
      "[CV 1/1] END clf__C=1.1, tfidf__ngram_range=(1, 3), tfidf__preprocessor=None, tfidf__stop_words=None;, score=0.781 total time=   2.0s\n",
      "[CV 1/1] END clf__C=1.1, tfidf__ngram_range=(2, 3), tfidf__preprocessor=None, tfidf__stop_words=english;, score=0.669 total time=   1.0s\n",
      "[CV 1/1] END clf__C=1.1, tfidf__ngram_range=(2, 4), tfidf__preprocessor=None, tfidf__stop_words=None;, score=0.731 total time=   2.9s\n",
      "[CV 1/1] END clf__C=1.1, tfidf__ngram_range=(1, 2), tfidf__preprocessor=<function preprocessor at 0x7fd2b0a12ee0>, tfidf__stop_words=None;, score=0.776 total time=   1.3s\n",
      "[CV 1/1] END clf__C=1.1, tfidf__ngram_range=(2, 3), tfidf__preprocessor=<function preprocessor at 0x7fd2d0e9edc0>, tfidf__stop_words=english;, score=0.667 total time=   1.6s\n",
      "[CV 1/1] END clf__C=1.1, tfidf__ngram_range=(3, 4), tfidf__preprocessor=None, tfidf__stop_words=None;, score=0.664 total time=   2.1s\n",
      "[CV 1/1] END clf__C=1.0, tfidf__ngram_range=(3, 4), tfidf__preprocessor=<function preprocessor at 0x7fde484b2ee0>, tfidf__stop_words=english;, score=0.529 total time=   1.3s\n",
      "[CV 1/1] END clf__C=1.1, tfidf__ngram_range=(1, 4), tfidf__preprocessor=None, tfidf__stop_words=None;, score=0.786 total time=   3.2s\n",
      "[CV 1/1] END clf__C=1.1, tfidf__ngram_range=(2, 4), tfidf__preprocessor=<function preprocessor at 0x7fde58ad83a0>, tfidf__stop_words=None;, score=0.736 total time=   2.9s\n",
      "[CV 1/1] END clf__C=1.0, tfidf__ngram_range=(1, 2), tfidf__preprocessor=None, tfidf__stop_words=english;, score=0.752 total time=   0.6s\n",
      "[CV 1/1] END clf__C=1.0, tfidf__ngram_range=(1, 3), tfidf__preprocessor=<function preprocessor at 0x7fe730cfadc0>, tfidf__stop_words=None;, score=0.774 total time=   2.4s\n",
      "[CV 1/1] END clf__C=1.0, tfidf__ngram_range=(2, 3), tfidf__preprocessor=<function preprocessor at 0x7fe770c313a0>, tfidf__stop_words=english;, score=0.667 total time=   1.4s\n",
      "[CV 1/1] END clf__C=1.0, tfidf__ngram_range=(2, 4), tfidf__preprocessor=<function preprocessor at 0x7fe770c315e0>, tfidf__stop_words=english;, score=0.660 total time=   1.4s\n",
      "[CV 1/1] END clf__C=1.1, tfidf__ngram_range=(1, 1), tfidf__preprocessor=<function preprocessor at 0x7fe770c31040>, tfidf__stop_words=english;, score=0.767 total time=   0.6s\n",
      "[CV 1/1] END clf__C=1.1, tfidf__ngram_range=(1, 2), tfidf__preprocessor=None, tfidf__stop_words=english;, score=0.752 total time=   0.6s\n",
      "[CV 1/1] END clf__C=1.1, tfidf__ngram_range=(1, 3), tfidf__preprocessor=None, tfidf__stop_words=english;, score=0.752 total time=   1.2s\n",
      "[CV 1/1] END clf__C=1.1, tfidf__ngram_range=(1, 4), tfidf__preprocessor=<function preprocessor at 0x7fe730cfadc0>, tfidf__stop_words=english;, score=0.752 total time=   2.2s\n",
      "[CV 1/1] END clf__C=1.1, tfidf__ngram_range=(2, 4), tfidf__preprocessor=None, tfidf__stop_words=english;, score=0.667 total time=   1.5s\n",
      "[CV 1/1] END clf__C=1.1, tfidf__ngram_range=(3, 4), tfidf__preprocessor=<function preprocessor at 0x7fe730cfad30>, tfidf__stop_words=english;, score=0.529 total time=   1.3s\n",
      "[CV 1/1] END clf__C=1.2000000000000002, tfidf__ngram_range=(1, 2), tfidf__preprocessor=None, tfidf__stop_words=english;, score=0.752 total time=   0.6s\n",
      "[CV 1/1] END clf__C=1.2000000000000002, tfidf__ngram_range=(1, 3), tfidf__preprocessor=<function preprocessor at 0x7fe730cfaca0>, tfidf__stop_words=None;, score=0.776 total time=   1.6s\n",
      "[CV 1/1] END clf__C=1.2000000000000002, tfidf__ngram_range=(1, 1), tfidf__preprocessor=<function preprocessor at 0x7fbe386eaee0>, tfidf__stop_words=None;, score=0.774 total time=   0.6s\n",
      "[CV 1/1] END clf__C=1.2000000000000002, tfidf__ngram_range=(1, 4), tfidf__preprocessor=<function preprocessor at 0x7fbe607c7dc0>, tfidf__stop_words=None;, score=0.781 total time=   2.9s\n",
      "[CV 1/1] END clf__C=1.3000000000000003, tfidf__ngram_range=(1, 1), tfidf__preprocessor=None, tfidf__stop_words=None;, score=0.771 total time=   0.3s\n",
      "[CV 1/1] END clf__C=1.3000000000000003, tfidf__ngram_range=(1, 4), tfidf__preprocessor=<function preprocessor at 0x7f8e90a55dc0>, tfidf__stop_words=None;, score=0.779 total time=   3.9s\n",
      "[CV 1/1] END clf__C=1.2000000000000002, tfidf__ngram_range=(1, 2), tfidf__preprocessor=<function preprocessor at 0x7fe7e86c2ee0>, tfidf__stop_words=english;, score=0.760 total time=   1.1s\n",
      "[CV 1/1] END clf__C=1.2000000000000002, tfidf__ngram_range=(2, 3), tfidf__preprocessor=<function preprocessor at 0x7fe7b89dbdc0>, tfidf__stop_words=None;, score=0.738 total time=   1.9s\n",
      "[CV 1/1] END clf__C=1.2000000000000002, tfidf__ngram_range=(3, 4), tfidf__preprocessor=None, tfidf__stop_words=english;, score=0.533 total time=   0.8s\n",
      "[CV 1/1] END clf__C=1.3000000000000003, tfidf__ngram_range=(1, 1), tfidf__preprocessor=None, tfidf__stop_words=english;, score=0.764 total time=   0.2s\n",
      "[CV 1/1] END clf__C=1.3000000000000003, tfidf__ngram_range=(1, 1), tfidf__preprocessor=<function preprocessor at 0x7fe7b897a670>, tfidf__stop_words=english;, score=0.760 total time=   0.6s\n",
      "[CV 1/1] END clf__C=1.3000000000000003, tfidf__ngram_range=(1, 2), tfidf__preprocessor=<function preprocessor at 0x7fe7b897a670>, tfidf__stop_words=english;, score=0.760 total time=   1.1s\n",
      "[CV 1/1] END clf__C=1.3000000000000003, tfidf__ngram_range=(1, 4), tfidf__preprocessor=None, tfidf__stop_words=english;, score=0.757 total time=   1.8s\n",
      "[CV 1/1] END clf__C=1.3000000000000003, tfidf__ngram_range=(2, 3), tfidf__preprocessor=<function preprocessor at 0x7fe7b8a6e700>, tfidf__stop_words=english;, score=0.667 total time=   1.4s\n",
      "[CV 1/1] END clf__C=1.3000000000000003, tfidf__ngram_range=(3, 4), tfidf__preprocessor=None, tfidf__stop_words=None;, score=0.667 total time=   1.8s\n"
     ]
    },
    {
     "name": "stdout",
     "output_type": "stream",
     "text": [
      "[CV 1/1] END clf__C=1.1, tfidf__ngram_range=(1, 3), tfidf__preprocessor=<function preprocessor at 0x7fd77859aee0>, tfidf__stop_words=None;, score=0.774 total time=   2.7s\n",
      "[CV 1/1] END clf__C=1.1, tfidf__ngram_range=(3, 4), tfidf__preprocessor=None, tfidf__stop_words=english;, score=0.533 total time=   0.9s\n",
      "[CV 1/1] END clf__C=1.2000000000000002, tfidf__ngram_range=(1, 1), tfidf__preprocessor=None, tfidf__stop_words=None;, score=0.774 total time=   0.3s\n",
      "[CV 1/1] END clf__C=1.2000000000000002, tfidf__ngram_range=(1, 1), tfidf__preprocessor=<function preprocessor at 0x7fd7aa198040>, tfidf__stop_words=english;, score=0.767 total time=   0.6s\n",
      "[CV 1/1] END clf__C=1.2000000000000002, tfidf__ngram_range=(1, 2), tfidf__preprocessor=<function preprocessor at 0x7fd7aa198160>, tfidf__stop_words=None;, score=0.776 total time=   1.0s\n",
      "[CV 1/1] END clf__C=1.2000000000000002, tfidf__ngram_range=(1, 4), tfidf__preprocessor=None, tfidf__stop_words=english;, score=0.757 total time=   1.2s\n",
      "[CV 1/1] END clf__C=1.2000000000000002, tfidf__ngram_range=(2, 3), tfidf__preprocessor=None, tfidf__stop_words=english;, score=0.669 total time=   0.8s\n",
      "[CV 1/1] END clf__C=1.2000000000000002, tfidf__ngram_range=(2, 4), tfidf__preprocessor=None, tfidf__stop_words=english;, score=0.667 total time=   1.2s\n",
      "[CV 1/1] END clf__C=1.2000000000000002, tfidf__ngram_range=(3, 4), tfidf__preprocessor=None, tfidf__stop_words=None;, score=0.664 total time=   1.9s\n",
      "[CV 1/1] END clf__C=1.3000000000000003, tfidf__ngram_range=(1, 3), tfidf__preprocessor=None, tfidf__stop_words=english;, score=0.757 total time=   1.2s\n",
      "[CV 1/1] END clf__C=1.3000000000000003, tfidf__ngram_range=(1, 4), tfidf__preprocessor=<function preprocessor at 0x7fd79954c3a0>, tfidf__stop_words=english;, score=0.755 total time=   2.3s\n",
      "[CV 1/1] END clf__C=1.3000000000000003, tfidf__ngram_range=(2, 4), tfidf__preprocessor=<function preprocessor at 0x7fd79954c700>, tfidf__stop_words=english;, score=0.660 total time=   1.9s\n",
      "[CV 1/1] END clf__C=1.4000000000000004, tfidf__ngram_range=(1, 1), tfidf__preprocessor=<function preprocessor at 0x7fd79954c040>, tfidf__stop_words=None;, score=0.769 total time=   0.6s\n",
      "[CV 1/1] END clf__C=1.4000000000000004, tfidf__ngram_range=(1, 2), tfidf__preprocessor=<function preprocessor at 0x7fd79955a550>, tfidf__stop_words=None;, score=0.781 total time=   1.1s\n",
      "[CV 1/1] END clf__C=1.4000000000000004, tfidf__ngram_range=(1, 4), tfidf__preprocessor=<function preprocessor at 0x7fd748c0b3a0>, tfidf__stop_words=None;, score=0.774 total time=   3.3s\n",
      "[CV 1/1] END clf__C=1.4000000000000004, tfidf__ngram_range=(1, 2), tfidf__preprocessor=None, tfidf__stop_words=english;, score=0.752 total time=   0.7s\n",
      "[CV 1/1] END clf__C=1.4000000000000004, tfidf__ngram_range=(2, 3), tfidf__preprocessor=None, tfidf__stop_words=english;, score=0.667 total time=   0.9s\n",
      "[CV 1/1] END clf__C=1.4000000000000004, tfidf__ngram_range=(2, 4), tfidf__preprocessor=None, tfidf__stop_words=None;, score=0.731 total time=   3.1s\n",
      "[CV 1/1] END clf__C=1.5000000000000004, tfidf__ngram_range=(1, 2), tfidf__preprocessor=None, tfidf__stop_words=None;, score=0.788 total time=   1.1s\n",
      "[CV 1/1] END clf__C=1.5000000000000004, tfidf__ngram_range=(2, 3), tfidf__preprocessor=None, tfidf__stop_words=english;, score=0.667 total time=   1.7s\n",
      "[CV 1/1] END clf__C=1.5000000000000004, tfidf__ngram_range=(2, 4), tfidf__preprocessor=None, tfidf__stop_words=None;, score=0.729 total time=   3.2s\n",
      "[CV 1/1] END clf__C=1.4000000000000004, tfidf__ngram_range=(1, 3), tfidf__preprocessor=<function preprocessor at 0x7fefc05f2ee0>, tfidf__stop_words=english;, score=0.750 total time=   1.8s\n",
      "[CV 1/1] END clf__C=1.4000000000000004, tfidf__ngram_range=(3, 4), tfidf__preprocessor=None, tfidf__stop_words=None;, score=0.669 total time=   2.1s\n",
      "[CV 1/1] END clf__C=1.5000000000000004, tfidf__ngram_range=(1, 2), tfidf__preprocessor=None, tfidf__stop_words=english;, score=0.755 total time=   0.7s\n",
      "[CV 1/1] END clf__C=1.5000000000000004, tfidf__ngram_range=(1, 3), tfidf__preprocessor=<function preprocessor at 0x7fef7062d160>, tfidf__stop_words=None;, score=0.776 total time=   3.0s\n",
      "[CV 1/1] END clf__C=1.5000000000000004, tfidf__ngram_range=(2, 3), tfidf__preprocessor=<function preprocessor at 0x7fef7062d790>, tfidf__stop_words=None;, score=0.740 total time=   2.6s\n",
      "[CV 1/1] END clf__C=1.5000000000000004, tfidf__ngram_range=(3, 4), tfidf__preprocessor=<function preprocessor at 0x7fefc0e40310>, tfidf__stop_words=english;, score=0.529 total time=   1.4s\n",
      "[CV 1/1] END clf__C=1.6000000000000005, tfidf__ngram_range=(1, 3), tfidf__preprocessor=None, tfidf__stop_words=None;, score=0.779 total time=   1.7s\n",
      "[CV 1/1] END clf__C=1.5000000000000004, tfidf__ngram_range=(1, 3), tfidf__preprocessor=<function preprocessor at 0x7fb7e07caee0>, tfidf__stop_words=english;, score=0.755 total time=   2.5s\n",
      "[CV 1/1] END clf__C=1.5000000000000004, tfidf__ngram_range=(2, 4), tfidf__preprocessor=<function preprocessor at 0x7fb800f97dc0>, tfidf__stop_words=english;, score=0.662 total time=   2.0s\n",
      "[CV 1/1] END clf__C=1.6000000000000005, tfidf__ngram_range=(1, 2), tfidf__preprocessor=None, tfidf__stop_words=None;, score=0.786 total time=   0.9s\n",
      "[CV 1/1] END clf__C=1.6000000000000005, tfidf__ngram_range=(1, 3), tfidf__preprocessor=<function preprocessor at 0x7fb810c8a160>, tfidf__stop_words=None;, score=0.776 total time=   2.0s\n",
      "[CV 1/1] END clf__C=1.6000000000000005, tfidf__ngram_range=(2, 3), tfidf__preprocessor=<function preprocessor at 0x7f9748822ee0>, tfidf__stop_words=None;, score=0.743 total time=   2.5s\n",
      "[CV 1/1] END clf__C=1.7000000000000006, tfidf__ngram_range=(1, 2), tfidf__preprocessor=<function preprocessor at 0x7f97403eedc0>, tfidf__stop_words=english;, score=0.762 total time=   1.6s\n",
      "[CV 1/1] END clf__C=1.7000000000000006, tfidf__ngram_range=(1, 4), tfidf__preprocessor=<function preprocessor at 0x7f975052e3a0>, tfidf__stop_words=None;, score=0.774 total time=   3.7s\n",
      "[CV 1/1] END clf__C=1.6000000000000005, tfidf__ngram_range=(2, 4), tfidf__preprocessor=<function preprocessor at 0x7fc498abaee0>, tfidf__stop_words=english;, score=0.662 total time=   2.1s\n",
      "[CV 1/1] END clf__C=1.7000000000000006, tfidf__ngram_range=(1, 3), tfidf__preprocessor=<function preprocessor at 0x7fc4b0992dc0>, tfidf__stop_words=None;, score=0.779 total time=   3.1s\n",
      "[CV 1/1] END clf__C=1.7000000000000006, tfidf__ngram_range=(2, 4), tfidf__preprocessor=None, tfidf__stop_words=None;, score=0.729 total time=   2.5s\n",
      "[CV 1/1] END clf__C=1.2000000000000002, tfidf__ngram_range=(2, 3), tfidf__preprocessor=<function preprocessor at 0x7fdf1037aee0>, tfidf__stop_words=english;, score=0.667 total time=   1.3s\n",
      "[CV 1/1] END clf__C=1.3000000000000003, tfidf__ngram_range=(1, 2), tfidf__preprocessor=None, tfidf__stop_words=None;, score=0.788 total time=   1.0s\n",
      "[CV 1/1] END clf__C=1.3000000000000003, tfidf__ngram_range=(1, 3), tfidf__preprocessor=<function preprocessor at 0x7fdf305863a0>, tfidf__stop_words=english;, score=0.750 total time=   1.9s\n",
      "[CV 1/1] END clf__C=1.3000000000000003, tfidf__ngram_range=(2, 3), tfidf__preprocessor=<function preprocessor at 0x7fdf30586670>, tfidf__stop_words=None;, score=0.738 total time=   2.2s\n",
      "[CV 1/1] END clf__C=1.3000000000000003, tfidf__ngram_range=(3, 4), tfidf__preprocessor=<function preprocessor at 0x7fdf30586040>, tfidf__stop_words=english;, score=0.529 total time=   1.4s\n",
      "[CV 1/1] END clf__C=1.4000000000000004, tfidf__ngram_range=(1, 2), tfidf__preprocessor=<function preprocessor at 0x7fdf10311280>, tfidf__stop_words=english;, score=0.760 total time=   1.0s\n",
      "[CV 1/1] END clf__C=1.4000000000000004, tfidf__ngram_range=(1, 4), tfidf__preprocessor=None, tfidf__stop_words=english;, score=0.757 total time=   1.5s\n",
      "[CV 1/1] END clf__C=1.4000000000000004, tfidf__ngram_range=(2, 3), tfidf__preprocessor=<function preprocessor at 0x7fdf31190310>, tfidf__stop_words=None;, score=0.738 total time=   2.2s\n",
      "[CV 1/1] END clf__C=1.4000000000000004, tfidf__ngram_range=(3, 4), tfidf__preprocessor=<function preprocessor at 0x7fdf311903a0>, tfidf__stop_words=english;, score=0.529 total time=   1.5s\n",
      "[CV 1/1] END clf__C=1.5000000000000004, tfidf__ngram_range=(1, 2), tfidf__preprocessor=<function preprocessor at 0x7fdf311901f0>, tfidf__stop_words=None;, score=0.783 total time=   1.1s\n",
      "[CV 1/1] END clf__C=1.5000000000000004, tfidf__ngram_range=(1, 4), tfidf__preprocessor=None, tfidf__stop_words=english;, score=0.757 total time=   2.6s\n",
      "[CV 1/1] END clf__C=1.5000000000000004, tfidf__ngram_range=(2, 3), tfidf__preprocessor=<function preprocessor at 0x7fdf501d53a0>, tfidf__stop_words=english;, score=0.667 total time=   1.6s\n",
      "[CV 1/1] END clf__C=1.5000000000000004, tfidf__ngram_range=(3, 4), tfidf__preprocessor=None, tfidf__stop_words=english;, score=0.533 total time=   1.0s\n",
      "[CV 1/1] END clf__C=1.6000000000000005, tfidf__ngram_range=(1, 1), tfidf__preprocessor=None, tfidf__stop_words=None;, score=0.776 total time=   0.3s\n",
      "[CV 1/1] END clf__C=1.6000000000000005, tfidf__ngram_range=(1, 1), tfidf__preprocessor=<function preprocessor at 0x7fdf501d5160>, tfidf__stop_words=english;, score=0.752 total time=   0.7s\n",
      "[CV 1/1] END clf__C=1.6000000000000005, tfidf__ngram_range=(1, 2), tfidf__preprocessor=<function preprocessor at 0x7fdf31190820>, tfidf__stop_words=None;, score=0.781 total time=   1.3s\n",
      "[CV 1/1] END clf__C=1.6000000000000005, tfidf__ngram_range=(1, 4), tfidf__preprocessor=<function preprocessor at 0x7fdf31190940>, tfidf__stop_words=english;, score=0.752 total time=   2.0s\n",
      "[CV 1/1] END clf__C=1.6000000000000005, tfidf__ngram_range=(2, 4), tfidf__preprocessor=<function preprocessor at 0x7fdf31190820>, tfidf__stop_words=None;, score=0.733 total time=   3.4s\n",
      "[CV 1/1] END clf__C=1.7000000000000006, tfidf__ngram_range=(1, 2), tfidf__preprocessor=None, tfidf__stop_words=english;, score=0.757 total time=   0.8s\n",
      "[CV 1/1] END clf__C=1.7000000000000006, tfidf__ngram_range=(1, 4), tfidf__preprocessor=None, tfidf__stop_words=english;, score=0.764 total time=   2.5s\n",
      "[CV 1/1] END clf__C=1.7000000000000006, tfidf__ngram_range=(2, 3), tfidf__preprocessor=<function preprocessor at 0x7fdf501ee3a0>, tfidf__stop_words=english;, score=0.667 total time=   1.5s\n",
      "[CV 1/1] END clf__C=1.7000000000000006, tfidf__ngram_range=(3, 4), tfidf__preprocessor=None, tfidf__stop_words=english;, score=0.533 total time=   0.9s\n",
      "[CV 1/1] END clf__C=1.8000000000000007, tfidf__ngram_range=(1, 1), tfidf__preprocessor=None, tfidf__stop_words=None;, score=0.779 total time=   0.3s\n",
      "[CV 1/1] END clf__C=1.8000000000000007, tfidf__ngram_range=(1, 1), tfidf__preprocessor=None, tfidf__stop_words=english;, score=0.760 total time=   0.3s\n",
      "[CV 1/1] END clf__C=1.8000000000000007, tfidf__ngram_range=(1, 1), tfidf__preprocessor=<function preprocessor at 0x7fdf60cd53a0>, tfidf__stop_words=None;, score=0.779 total time=   0.7s\n",
      "[CV 1/1] END clf__C=1.8000000000000007, tfidf__ngram_range=(1, 2), tfidf__preprocessor=<function preprocessor at 0x7fdf60cd5160>, tfidf__stop_words=english;, score=0.760 total time=   1.1s\n",
      "[CV 1/1] END clf__C=1.8000000000000007, tfidf__ngram_range=(1, 4), tfidf__preprocessor=<function preprocessor at 0x7fdf60cd54c0>, tfidf__stop_words=english;, score=0.752 total time=   2.4s\n",
      "[CV 1/1] END clf__C=1.8000000000000007, tfidf__ngram_range=(2, 4), tfidf__preprocessor=<function preprocessor at 0x7fdf501ee820>, tfidf__stop_words=None;, score=0.733 total time=   3.1s\n"
     ]
    },
    {
     "name": "stdout",
     "output_type": "stream",
     "text": [
      "Best parameters set:\n",
      "[('tfidf', TfidfVectorizer(ngram_range=(1, 2), strip_accents='unicode', sublinear_tf=True)), ('clf', LogisticRegression(C=2.4000000000000012, max_iter=10000, random_state=0))]\n",
      "Pipeline(steps=[('tfidf',\n",
      "                 TfidfVectorizer(ngram_range=(1, 2), strip_accents='unicode',\n",
      "                                 sublinear_tf=True)),\n",
      "                ('clf',\n",
      "                 LogisticRegression(C=2.4000000000000012, max_iter=10000,\n",
      "                                    random_state=0))])\n",
      "[CV 1/1] END clf__C=1.8000000000000007, tfidf__ngram_range=(1, 2), tfidf__preprocessor=None, tfidf__stop_words=None;, score=0.788 total time=   0.9s\n",
      "[CV 1/1] END clf__C=1.8000000000000007, tfidf__ngram_range=(2, 3), tfidf__preprocessor=None, tfidf__stop_words=None;, score=0.736 total time=   1.9s\n",
      "[CV 1/1] END clf__C=1.8000000000000007, tfidf__ngram_range=(2, 4), tfidf__preprocessor=<function preprocessor at 0x7ff4a8c8fdc0>, tfidf__stop_words=english;, score=0.664 total time=   1.9s\n",
      "[CV 1/1] END clf__C=1.9000000000000008, tfidf__ngram_range=(1, 1), tfidf__preprocessor=<function preprocessor at 0x7ff4903533a0>, tfidf__stop_words=english;, score=0.755 total time=   0.7s\n",
      "[CV 1/1] END clf__C=1.9000000000000008, tfidf__ngram_range=(1, 3), tfidf__preprocessor=None, tfidf__stop_words=english;, score=0.757 total time=   1.3s\n",
      "[CV 1/1] END clf__C=1.9000000000000008, tfidf__ngram_range=(1, 4), tfidf__preprocessor=<function preprocessor at 0x7ff4903534c0>, tfidf__stop_words=english;, score=0.755 total time=   2.7s\n",
      "[CV 1/1] END clf__C=1.9000000000000008, tfidf__ngram_range=(2, 4), tfidf__preprocessor=<function preprocessor at 0x7ff4903539d0>, tfidf__stop_words=None;, score=0.733 total time=   3.9s\n",
      "[CV 1/1] END clf__C=2.000000000000001, tfidf__ngram_range=(1, 4), tfidf__preprocessor=None, tfidf__stop_words=english;, score=0.760 total time=   2.5s\n",
      "[CV 1/1] END clf__C=2.000000000000001, tfidf__ngram_range=(2, 3), tfidf__preprocessor=<function preprocessor at 0x7ff4a8b99700>, tfidf__stop_words=None;, score=0.743 total time=   3.3s\n",
      "[CV 1/1] END clf__C=2.000000000000001, tfidf__ngram_range=(3, 4), tfidf__preprocessor=<function preprocessor at 0x7ff4a8b998b0>, tfidf__stop_words=None;, score=0.674 total time=   4.1s\n",
      "[CV 1/1] END clf__C=2.100000000000001, tfidf__ngram_range=(1, 4), tfidf__preprocessor=None, tfidf__stop_words=None;, score=0.786 total time=   5.8s\n",
      "[CV 1/1] END clf__C=2.100000000000001, tfidf__ngram_range=(3, 4), tfidf__preprocessor=None, tfidf__stop_words=english;, score=0.533 total time=   1.6s\n",
      "[CV 1/1] END clf__C=2.200000000000001, tfidf__ngram_range=(1, 1), tfidf__preprocessor=None, tfidf__stop_words=None;, score=0.783 total time=   0.4s\n",
      "[CV 1/1] END clf__C=2.200000000000001, tfidf__ngram_range=(1, 1), tfidf__preprocessor=<function preprocessor at 0x7ff4a8b99790>, tfidf__stop_words=None;, score=0.790 total time=   1.2s\n",
      "[CV 1/1] END clf__C=2.200000000000001, tfidf__ngram_range=(1, 2), tfidf__preprocessor=None, tfidf__stop_words=english;, score=0.757 total time=   1.1s\n",
      "[CV 1/1] END clf__C=2.200000000000001, tfidf__ngram_range=(1, 4), tfidf__preprocessor=None, tfidf__stop_words=english;, score=0.757 total time=   1.9s\n",
      "[CV 1/1] END clf__C=2.200000000000001, tfidf__ngram_range=(2, 3), tfidf__preprocessor=<function preprocessor at 0x7ff4a8b99820>, tfidf__stop_words=None;, score=0.748 total time=   2.8s\n",
      "[CV 1/1] END clf__C=2.200000000000001, tfidf__ngram_range=(3, 4), tfidf__preprocessor=<function preprocessor at 0x7ff4a8b99790>, tfidf__stop_words=None;, score=0.674 total time=   3.3s\n",
      "[CV 1/1] END clf__C=2.300000000000001, tfidf__ngram_range=(1, 4), tfidf__preprocessor=None, tfidf__stop_words=english;, score=0.757 total time=   2.3s\n",
      "[CV 1/1] END clf__C=2.300000000000001, tfidf__ngram_range=(2, 3), tfidf__preprocessor=<function preprocessor at 0x7ff4a8b99700>, tfidf__stop_words=english;, score=0.664 total time=   1.7s\n",
      "[CV 1/1] END clf__C=2.300000000000001, tfidf__ngram_range=(3, 4), tfidf__preprocessor=None, tfidf__stop_words=english;, score=0.533 total time=   1.2s\n",
      "[CV 1/1] END clf__C=2.4000000000000012, tfidf__ngram_range=(1, 1), tfidf__preprocessor=None, tfidf__stop_words=None;, score=0.786 total time=   0.4s\n",
      "[CV 1/1] END clf__C=2.4000000000000012, tfidf__ngram_range=(1, 1), tfidf__preprocessor=<function preprocessor at 0x7ff4a8b994c0>, tfidf__stop_words=None;, score=0.790 total time=   1.0s\n",
      "[CV 1/1] END clf__C=2.4000000000000012, tfidf__ngram_range=(1, 3), tfidf__preprocessor=None, tfidf__stop_words=english;, score=0.757 total time=   1.7s\n",
      "[CV 1/1] END clf__C=2.4000000000000012, tfidf__ngram_range=(2, 3), tfidf__preprocessor=None, tfidf__stop_words=None;, score=0.740 total time=   2.8s\n",
      "[CV 1/1] END clf__C=2.4000000000000012, tfidf__ngram_range=(2, 4), tfidf__preprocessor=<function preprocessor at 0x7ff4a8b99820>, tfidf__stop_words=None;, score=0.736 total time=   4.2s\n",
      "[CV 1/1] END clf__C=2.5000000000000013, tfidf__ngram_range=(1, 3), tfidf__preprocessor=<function preprocessor at 0x7ff4a8b994c0>, tfidf__stop_words=english;, score=0.760 total time=   2.5s\n",
      "[CV 1/1] END clf__C=2.5000000000000013, tfidf__ngram_range=(2, 3), tfidf__preprocessor=<function preprocessor at 0x7ff4a8b99820>, tfidf__stop_words=english;, score=0.664 total time=   2.4s\n",
      "[CV 1/1] END clf__C=2.5000000000000013, tfidf__ngram_range=(3, 4), tfidf__preprocessor=None, tfidf__stop_words=english;, score=0.533 total time=   1.2s\n",
      "[CV 1/1] END clf__C=1.8000000000000007, tfidf__ngram_range=(1, 3), tfidf__preprocessor=None, tfidf__stop_words=None;, score=0.779 total time=   2.2s\n",
      "[CV 1/1] END clf__C=1.8000000000000007, tfidf__ngram_range=(3, 4), tfidf__preprocessor=None, tfidf__stop_words=None;, score=0.669 total time=   2.0s\n",
      "[CV 1/1] END clf__C=1.9000000000000008, tfidf__ngram_range=(1, 2), tfidf__preprocessor=<function preprocessor at 0x7f88004e53a0>, tfidf__stop_words=None;, score=0.788 total time=   1.5s\n",
      "[CV 1/1] END clf__C=1.9000000000000008, tfidf__ngram_range=(1, 4), tfidf__preprocessor=None, tfidf__stop_words=english;, score=0.762 total time=   2.0s\n",
      "[CV 1/1] END clf__C=1.9000000000000008, tfidf__ngram_range=(2, 4), tfidf__preprocessor=None, tfidf__stop_words=None;, score=0.729 total time=   3.6s\n",
      "[CV 1/1] END clf__C=2.000000000000001, tfidf__ngram_range=(1, 2), tfidf__preprocessor=None, tfidf__stop_words=english;, score=0.757 total time=   1.0s\n",
      "[CV 1/1] END clf__C=2.000000000000001, tfidf__ngram_range=(1, 3), tfidf__preprocessor=<function preprocessor at 0x7f880098b3a0>, tfidf__stop_words=None;, score=0.783 total time=   3.7s\n",
      "[CV 1/1] END clf__C=2.000000000000001, tfidf__ngram_range=(2, 4), tfidf__preprocessor=None, tfidf__stop_words=None;, score=0.729 total time=   4.2s\n",
      "[CV 1/1] END clf__C=2.100000000000001, tfidf__ngram_range=(1, 2), tfidf__preprocessor=<function preprocessor at 0x7f880098b160>, tfidf__stop_words=None;, score=0.788 total time=   2.7s\n",
      "[CV 1/1] END clf__C=2.100000000000001, tfidf__ngram_range=(1, 4), tfidf__preprocessor=<function preprocessor at 0x7f88004e5160>, tfidf__stop_words=None;, score=0.781 total time=   7.5s\n",
      "[CV 1/1] END clf__C=2.200000000000001, tfidf__ngram_range=(1, 1), tfidf__preprocessor=None, tfidf__stop_words=english;, score=0.760 total time=   0.5s\n",
      "[CV 1/1] END clf__C=2.200000000000001, tfidf__ngram_range=(1, 1), tfidf__preprocessor=<function preprocessor at 0x7f8828dd70d0>, tfidf__stop_words=english;, score=0.757 total time=   1.0s\n",
      "[CV 1/1] END clf__C=2.200000000000001, tfidf__ngram_range=(1, 3), tfidf__preprocessor=None, tfidf__stop_words=english;, score=0.755 total time=   1.5s\n",
      "[CV 1/1] END clf__C=2.200000000000001, tfidf__ngram_range=(1, 4), tfidf__preprocessor=<function preprocessor at 0x7f8828dd7790>, tfidf__stop_words=english;, score=0.757 total time=   2.8s\n",
      "[CV 1/1] END clf__C=2.200000000000001, tfidf__ngram_range=(2, 4), tfidf__preprocessor=<function preprocessor at 0x7f880098b0d0>, tfidf__stop_words=english;, score=0.667 total time=   2.3s\n",
      "[CV 1/1] END clf__C=2.300000000000001, tfidf__ngram_range=(1, 2), tfidf__preprocessor=None, tfidf__stop_words=None;, score=0.793 total time=   1.4s\n",
      "[CV 1/1] END clf__C=2.300000000000001, tfidf__ngram_range=(1, 3), tfidf__preprocessor=<function preprocessor at 0x7f880098d160>, tfidf__stop_words=english;, score=0.760 total time=   2.3s\n",
      "[CV 1/1] END clf__C=2.300000000000001, tfidf__ngram_range=(2, 3), tfidf__preprocessor=<function preprocessor at 0x7f880098d700>, tfidf__stop_words=None;, score=0.745 total time=   3.0s\n",
      "[CV 1/1] END clf__C=2.300000000000001, tfidf__ngram_range=(3, 4), tfidf__preprocessor=<function preprocessor at 0x7f880098d0d0>, tfidf__stop_words=None;, score=0.674 total time=   3.0s\n",
      "[CV 1/1] END clf__C=2.4000000000000012, tfidf__ngram_range=(1, 4), tfidf__preprocessor=None, tfidf__stop_words=english;, score=0.757 total time=   2.4s\n",
      "[CV 1/1] END clf__C=2.4000000000000012, tfidf__ngram_range=(2, 3), tfidf__preprocessor=<function preprocessor at 0x7f8828db23a0>, tfidf__stop_words=english;, score=0.664 total time=   2.0s\n",
      "[CV 1/1] END clf__C=2.4000000000000012, tfidf__ngram_range=(3, 4), tfidf__preprocessor=None, tfidf__stop_words=english;, score=0.533 total time=   1.1s\n",
      "[CV 1/1] END clf__C=2.5000000000000013, tfidf__ngram_range=(1, 1), tfidf__preprocessor=None, tfidf__stop_words=english;, score=0.760 total time=   0.3s\n",
      "[CV 1/1] END clf__C=2.5000000000000013, tfidf__ngram_range=(1, 1), tfidf__preprocessor=<function preprocessor at 0x7f8828db2160>, tfidf__stop_words=english;, score=0.757 total time=   0.8s\n",
      "[CV 1/1] END clf__C=2.5000000000000013, tfidf__ngram_range=(1, 2), tfidf__preprocessor=<function preprocessor at 0x7f880098d670>, tfidf__stop_words=english;, score=0.764 total time=   1.5s\n",
      "[CV 1/1] END clf__C=2.5000000000000013, tfidf__ngram_range=(1, 4), tfidf__preprocessor=<function preprocessor at 0x7f880098d940>, tfidf__stop_words=None;, score=0.781 total time=   5.7s\n"
     ]
    },
    {
     "name": "stdout",
     "output_type": "stream",
     "text": [
      "[CV 1/1] END clf__C=1.2000000000000002, tfidf__ngram_range=(1, 3), tfidf__preprocessor=None, tfidf__stop_words=None;, score=0.781 total time=   1.7s\n",
      "[CV 1/1] END clf__C=1.2000000000000002, tfidf__ngram_range=(2, 4), tfidf__preprocessor=<function preprocessor at 0x7f9ce8786dc0>, tfidf__stop_words=english;, score=0.660 total time=   1.7s\n",
      "[CV 1/1] END clf__C=1.2000000000000002, tfidf__ngram_range=(3, 4), tfidf__preprocessor=<function preprocessor at 0x7f9d18dda3a0>, tfidf__stop_words=None;, score=0.664 total time=   2.2s\n",
      "[CV 1/1] END clf__C=1.3000000000000003, tfidf__ngram_range=(1, 4), tfidf__preprocessor=None, tfidf__stop_words=None;, score=0.781 total time=   3.3s\n",
      "[CV 1/1] END clf__C=1.3000000000000003, tfidf__ngram_range=(3, 4), tfidf__preprocessor=None, tfidf__stop_words=english;, score=0.533 total time=   0.8s\n",
      "[CV 1/1] END clf__C=1.4000000000000004, tfidf__ngram_range=(1, 1), tfidf__preprocessor=None, tfidf__stop_words=None;, score=0.771 total time=   0.3s\n",
      "[CV 1/1] END clf__C=1.4000000000000004, tfidf__ngram_range=(1, 1), tfidf__preprocessor=None, tfidf__stop_words=english;, score=0.760 total time=   0.2s\n",
      "[CV 1/1] END clf__C=1.4000000000000004, tfidf__ngram_range=(1, 1), tfidf__preprocessor=<function preprocessor at 0x7f9cc869b700>, tfidf__stop_words=english;, score=0.755 total time=   0.7s\n",
      "[CV 1/1] END clf__C=1.4000000000000004, tfidf__ngram_range=(1, 3), tfidf__preprocessor=None, tfidf__stop_words=english;, score=0.757 total time=   1.1s\n",
      "[CV 1/1] END clf__C=1.4000000000000004, tfidf__ngram_range=(1, 4), tfidf__preprocessor=<function preprocessor at 0x7f9cc869b790>, tfidf__stop_words=english;, score=0.755 total time=   2.0s\n",
      "[CV 1/1] END clf__C=1.4000000000000004, tfidf__ngram_range=(2, 4), tfidf__preprocessor=None, tfidf__stop_words=english;, score=0.664 total time=   1.4s\n",
      "[CV 1/1] END clf__C=1.4000000000000004, tfidf__ngram_range=(3, 4), tfidf__preprocessor=<function preprocessor at 0x7f9cc869b820>, tfidf__stop_words=None;, score=0.674 total time=   2.3s\n",
      "[CV 1/1] END clf__C=1.5000000000000004, tfidf__ngram_range=(1, 4), tfidf__preprocessor=None, tfidf__stop_words=None;, score=0.781 total time=   4.1s\n",
      "[CV 1/1] END clf__C=1.5000000000000004, tfidf__ngram_range=(2, 4), tfidf__preprocessor=<function preprocessor at 0x7f9cc869b670>, tfidf__stop_words=None;, score=0.733 total time=   3.3s\n",
      "[CV 1/1] END clf__C=1.6000000000000005, tfidf__ngram_range=(1, 3), tfidf__preprocessor=<function preprocessor at 0x7f9cc869be50>, tfidf__stop_words=english;, score=0.755 total time=   1.4s\n",
      "[CV 1/1] END clf__C=1.6000000000000005, tfidf__ngram_range=(2, 3), tfidf__preprocessor=None, tfidf__stop_words=english;, score=0.669 total time=   0.9s\n",
      "[CV 1/1] END clf__C=1.6000000000000005, tfidf__ngram_range=(2, 4), tfidf__preprocessor=None, tfidf__stop_words=None;, score=0.729 total time=   3.0s\n",
      "[CV 1/1] END clf__C=1.7000000000000006, tfidf__ngram_range=(1, 1), tfidf__preprocessor=<function preprocessor at 0x7f9cc869bf70>, tfidf__stop_words=english;, score=0.750 total time=   0.8s\n",
      "[CV 1/1] END clf__C=1.7000000000000006, tfidf__ngram_range=(1, 3), tfidf__preprocessor=None, tfidf__stop_words=None;, score=0.779 total time=   2.8s\n",
      "[CV 1/1] END clf__C=1.7000000000000006, tfidf__ngram_range=(2, 3), tfidf__preprocessor=None, tfidf__stop_words=english;, score=0.669 total time=   1.0s\n",
      "[CV 1/1] END clf__C=1.7000000000000006, tfidf__ngram_range=(2, 4), tfidf__preprocessor=None, tfidf__stop_words=english;, score=0.664 total time=   1.5s\n",
      "[CV 1/1] END clf__C=1.7000000000000006, tfidf__ngram_range=(3, 4), tfidf__preprocessor=<function preprocessor at 0x7f9cc869bee0>, tfidf__stop_words=english;, score=0.529 total time=   1.3s\n",
      "[CV 1/1] END clf__C=1.8000000000000007, tfidf__ngram_range=(1, 2), tfidf__preprocessor=<function preprocessor at 0x7f9cc869bdc0>, tfidf__stop_words=None;, score=0.790 total time=   1.3s\n",
      "[CV 1/1] END clf__C=1.8000000000000007, tfidf__ngram_range=(1, 4), tfidf__preprocessor=None, tfidf__stop_words=english;, score=0.764 total time=   1.7s\n",
      "[CV 1/1] END clf__C=1.8000000000000007, tfidf__ngram_range=(2, 4), tfidf__preprocessor=None, tfidf__stop_words=None;, score=0.729 total time=   2.8s\n",
      "[CV 1/1] END clf__C=1.9000000000000008, tfidf__ngram_range=(1, 2), tfidf__preprocessor=None, tfidf__stop_words=None;, score=0.790 total time=   1.0s\n",
      "[CV 1/1] END clf__C=1.9000000000000008, tfidf__ngram_range=(1, 3), tfidf__preprocessor=<function preprocessor at 0x7f9cc869b670>, tfidf__stop_words=english;, score=0.757 total time=   1.7s\n",
      "[CV 1/1] END clf__C=1.9000000000000008, tfidf__ngram_range=(2, 3), tfidf__preprocessor=None, tfidf__stop_words=english;, score=0.669 total time=   1.2s\n",
      "[CV 1/1] END clf__C=1.9000000000000008, tfidf__ngram_range=(2, 4), tfidf__preprocessor=None, tfidf__stop_words=english;, score=0.664 total time=   1.8s\n",
      "[CV 1/1] END clf__C=1.9000000000000008, tfidf__ngram_range=(3, 4), tfidf__preprocessor=<function preprocessor at 0x7f9cc869be50>, tfidf__stop_words=None;, score=0.676 total time=   2.8s\n",
      "[CV 1/1] END clf__C=2.000000000000001, tfidf__ngram_range=(1, 4), tfidf__preprocessor=None, tfidf__stop_words=None;, score=0.786 total time=   5.3s\n",
      "[CV 1/1] END clf__C=2.000000000000001, tfidf__ngram_range=(3, 4), tfidf__preprocessor=None, tfidf__stop_words=english;, score=0.533 total time=   1.3s\n",
      "[CV 1/1] END clf__C=2.100000000000001, tfidf__ngram_range=(1, 1), tfidf__preprocessor=None, tfidf__stop_words=None;, score=0.781 total time=   0.4s\n",
      "[CV 1/1] END clf__C=2.100000000000001, tfidf__ngram_range=(1, 1), tfidf__preprocessor=<function preprocessor at 0x7f9cc869bee0>, tfidf__stop_words=english;, score=0.757 total time=   1.0s\n",
      "[CV 1/1] END clf__C=2.100000000000001, tfidf__ngram_range=(1, 2), tfidf__preprocessor=<function preprocessor at 0x7f9cc869bdc0>, tfidf__stop_words=english;, score=0.764 total time=   2.5s\n",
      "[CV 1/1] END clf__C=2.100000000000001, tfidf__ngram_range=(1, 4), tfidf__preprocessor=<function preprocessor at 0x7f9cc869bee0>, tfidf__stop_words=english;, score=0.757 total time=   4.2s\n",
      "[CV 1/1] END clf__C=2.100000000000001, tfidf__ngram_range=(2, 4), tfidf__preprocessor=<function preprocessor at 0x7f9cc869bdc0>, tfidf__stop_words=None;, score=0.733 total time=   5.5s\n",
      "[CV 1/1] END clf__C=2.200000000000001, tfidf__ngram_range=(1, 4), tfidf__preprocessor=None, tfidf__stop_words=None;, score=0.783 total time=   3.9s\n",
      "[CV 1/1] END clf__C=2.200000000000001, tfidf__ngram_range=(3, 4), tfidf__preprocessor=None, tfidf__stop_words=None;, score=0.667 total time=   2.3s\n",
      "[CV 1/1] END clf__C=2.300000000000001, tfidf__ngram_range=(1, 2), tfidf__preprocessor=None, tfidf__stop_words=english;, score=0.757 total time=   1.2s\n",
      "[CV 1/1] END clf__C=2.300000000000001, tfidf__ngram_range=(1, 3), tfidf__preprocessor=<function preprocessor at 0x7f9cc869bf70>, tfidf__stop_words=None;, score=0.786 total time=   3.6s\n",
      "[CV 1/1] END clf__C=2.300000000000001, tfidf__ngram_range=(2, 4), tfidf__preprocessor=None, tfidf__stop_words=english;, score=0.669 total time=   1.7s\n",
      "[CV 1/1] END clf__C=2.300000000000001, tfidf__ngram_range=(3, 4), tfidf__preprocessor=<function preprocessor at 0x7f9cc869b670>, tfidf__stop_words=english;, score=0.529 total time=   1.6s\n",
      "[CV 1/1] END clf__C=2.4000000000000012, tfidf__ngram_range=(1, 2), tfidf__preprocessor=<function preprocessor at 0x7f9cc869b820>, tfidf__stop_words=None;, score=0.790 total time=   1.8s\n",
      "[CV 1/1] END clf__C=2.4000000000000012, tfidf__ngram_range=(1, 4), tfidf__preprocessor=<function preprocessor at 0x7f9cc869b670>, tfidf__stop_words=english;, score=0.757 total time=   3.7s\n",
      "[CV 1/1] END clf__C=2.4000000000000012, tfidf__ngram_range=(3, 4), tfidf__preprocessor=None, tfidf__stop_words=None;, score=0.667 total time=   2.4s\n",
      "[CV 1/1] END clf__C=2.5000000000000013, tfidf__ngram_range=(1, 2), tfidf__preprocessor=<function preprocessor at 0x7f9cc869bee0>, tfidf__stop_words=None;, score=0.790 total time=   1.7s\n",
      "[CV 1/1] END clf__C=2.5000000000000013, tfidf__ngram_range=(1, 4), tfidf__preprocessor=<function preprocessor at 0x7f9cc869b790>, tfidf__stop_words=english;, score=0.757 total time=   3.7s\n",
      "[CV 1/1] END clf__C=2.5000000000000013, tfidf__ngram_range=(2, 4), tfidf__preprocessor=<function preprocessor at 0x7f9cc869bee0>, tfidf__stop_words=english;, score=0.667 total time=   2.4s\n"
     ]
    },
    {
     "name": "stdout",
     "output_type": "stream",
     "text": [
      "[CV 1/1] END clf__C=1.9000000000000008, tfidf__ngram_range=(2, 3), tfidf__preprocessor=None, tfidf__stop_words=None;, score=0.738 total time=   2.2s\n",
      "[CV 1/1] END clf__C=1.9000000000000008, tfidf__ngram_range=(3, 4), tfidf__preprocessor=<function preprocessor at 0x7f94e1145dc0>, tfidf__stop_words=english;, score=0.529 total time=   1.6s\n",
      "[CV 1/1] END clf__C=2.000000000000001, tfidf__ngram_range=(1, 2), tfidf__preprocessor=<function preprocessor at 0x7f94e11423a0>, tfidf__stop_words=english;, score=0.762 total time=   1.6s\n",
      "[CV 1/1] END clf__C=2.000000000000001, tfidf__ngram_range=(1, 4), tfidf__preprocessor=<function preprocessor at 0x7f94e1142280>, tfidf__stop_words=english;, score=0.755 total time=   3.6s\n",
      "[CV 1/1] END clf__C=2.000000000000001, tfidf__ngram_range=(2, 4), tfidf__preprocessor=<function preprocessor at 0x7f94e1142550>, tfidf__stop_words=None;, score=0.733 total time=   5.8s\n",
      "[CV 1/1] END clf__C=2.100000000000001, tfidf__ngram_range=(1, 4), tfidf__preprocessor=None, tfidf__stop_words=english;, score=0.760 total time=   3.2s\n",
      "[CV 1/1] END clf__C=2.100000000000001, tfidf__ngram_range=(2, 3), tfidf__preprocessor=<function preprocessor at 0x7f94d873a670>, tfidf__stop_words=english;, score=0.664 total time=   2.4s\n",
      "[CV 1/1] END clf__C=2.100000000000001, tfidf__ngram_range=(3, 4), tfidf__preprocessor=None, tfidf__stop_words=None;, score=0.669 total time=   3.4s\n",
      "[CV 1/1] END clf__C=2.200000000000001, tfidf__ngram_range=(1, 2), tfidf__preprocessor=<function preprocessor at 0x7f94d873a670>, tfidf__stop_words=english;, score=0.764 total time=   1.5s\n",
      "[CV 1/1] END clf__C=2.200000000000001, tfidf__ngram_range=(1, 4), tfidf__preprocessor=<function preprocessor at 0x7f94d873a3a0>, tfidf__stop_words=None;, score=0.781 total time=   4.6s\n",
      "[CV 1/1] END clf__C=2.300000000000001, tfidf__ngram_range=(1, 1), tfidf__preprocessor=None, tfidf__stop_words=english;, score=0.760 total time=   0.4s\n",
      "[CV 1/1] END clf__C=2.300000000000001, tfidf__ngram_range=(1, 1), tfidf__preprocessor=<function preprocessor at 0x7f94d873a700>, tfidf__stop_words=english;, score=0.757 total time=   0.8s\n",
      "[CV 1/1] END clf__C=2.300000000000001, tfidf__ngram_range=(1, 2), tfidf__preprocessor=<function preprocessor at 0x7f94d873a550>, tfidf__stop_words=None;, score=0.793 total time=   2.1s\n",
      "[CV 1/1] END clf__C=2.300000000000001, tfidf__ngram_range=(1, 4), tfidf__preprocessor=<function preprocessor at 0x7f94d873a700>, tfidf__stop_words=english;, score=0.757 total time=   3.0s\n",
      "[CV 1/1] END clf__C=2.300000000000001, tfidf__ngram_range=(2, 4), tfidf__preprocessor=<function preprocessor at 0x7f94d873a550>, tfidf__stop_words=english;, score=0.667 total time=   2.3s\n",
      "[CV 1/1] END clf__C=2.4000000000000012, tfidf__ngram_range=(1, 2), tfidf__preprocessor=None, tfidf__stop_words=None;, score=0.795 total time=   1.1s\n",
      "[CV 1/1] END clf__C=2.4000000000000012, tfidf__ngram_range=(1, 3), tfidf__preprocessor=<function preprocessor at 0x7f94d873a790>, tfidf__stop_words=None;, score=0.790 total time=   3.4s\n",
      "[CV 1/1] END clf__C=2.4000000000000012, tfidf__ngram_range=(2, 4), tfidf__preprocessor=None, tfidf__stop_words=None;, score=0.733 total time=   3.7s\n",
      "[CV 1/1] END clf__C=2.5000000000000013, tfidf__ngram_range=(1, 2), tfidf__preprocessor=None, tfidf__stop_words=None;, score=0.793 total time=   1.3s\n",
      "[CV 1/1] END clf__C=2.5000000000000013, tfidf__ngram_range=(1, 4), tfidf__preprocessor=None, tfidf__stop_words=None;, score=0.781 total time=   4.7s\n",
      "[CV 1/1] END clf__C=2.5000000000000013, tfidf__ngram_range=(3, 4), tfidf__preprocessor=None, tfidf__stop_words=None;, score=0.667 total time=   2.2s\n",
      "[CV 1/1] END clf__C=1.6000000000000005, tfidf__ngram_range=(1, 4), tfidf__preprocessor=None, tfidf__stop_words=None;, score=0.781 total time=   2.9s\n",
      "[CV 1/1] END clf__C=1.6000000000000005, tfidf__ngram_range=(3, 4), tfidf__preprocessor=<function preprocessor at 0x7f8869273dc0>, tfidf__stop_words=english;, score=0.529 total time=   1.5s\n",
      "[CV 1/1] END clf__C=1.7000000000000006, tfidf__ngram_range=(1, 2), tfidf__preprocessor=<function preprocessor at 0x7f88a8f933a0>, tfidf__stop_words=None;, score=0.786 total time=   2.0s\n",
      "[CV 1/1] END clf__C=1.7000000000000006, tfidf__ngram_range=(2, 3), tfidf__preprocessor=None, tfidf__stop_words=None;, score=0.733 total time=   2.0s\n",
      "[CV 1/1] END clf__C=1.7000000000000006, tfidf__ngram_range=(2, 4), tfidf__preprocessor=<function preprocessor at 0x7f88a8f93040>, tfidf__stop_words=None;, score=0.733 total time=   3.3s\n",
      "[CV 1/1] END clf__C=1.8000000000000007, tfidf__ngram_range=(1, 3), tfidf__preprocessor=<function preprocessor at 0x7f88a8f93160>, tfidf__stop_words=english;, score=0.757 total time=   1.4s\n",
      "[CV 1/1] END clf__C=1.8000000000000007, tfidf__ngram_range=(2, 3), tfidf__preprocessor=None, tfidf__stop_words=english;, score=0.669 total time=   0.9s\n",
      "[CV 1/1] END clf__C=1.8000000000000007, tfidf__ngram_range=(2, 3), tfidf__preprocessor=<function preprocessor at 0x7f88987e85e0>, tfidf__stop_words=english;, score=0.667 total time=   1.5s\n",
      "[CV 1/1] END clf__C=1.8000000000000007, tfidf__ngram_range=(3, 4), tfidf__preprocessor=None, tfidf__stop_words=english;, score=0.533 total time=   1.1s\n",
      "[CV 1/1] END clf__C=1.9000000000000008, tfidf__ngram_range=(1, 1), tfidf__preprocessor=<function preprocessor at 0x7f88987e8670>, tfidf__stop_words=None;, score=0.779 total time=   0.7s\n",
      "[CV 1/1] END clf__C=1.9000000000000008, tfidf__ngram_range=(1, 2), tfidf__preprocessor=<function preprocessor at 0x7f88987e8f70>, tfidf__stop_words=english;, score=0.760 total time=   1.3s\n",
      "[CV 1/1] END clf__C=1.9000000000000008, tfidf__ngram_range=(1, 4), tfidf__preprocessor=<function preprocessor at 0x7f88987e8670>, tfidf__stop_words=None;, score=0.779 total time=   4.5s\n",
      "[CV 1/1] END clf__C=2.000000000000001, tfidf__ngram_range=(1, 1), tfidf__preprocessor=None, tfidf__stop_words=None;, score=0.781 total time=   0.4s\n",
      "[CV 1/1] END clf__C=2.000000000000001, tfidf__ngram_range=(1, 1), tfidf__preprocessor=None, tfidf__stop_words=english;, score=0.762 total time=   0.3s\n",
      "[CV 1/1] END clf__C=2.000000000000001, tfidf__ngram_range=(1, 1), tfidf__preprocessor=<function preprocessor at 0x7f88987e8700>, tfidf__stop_words=english;, score=0.757 total time=   0.9s\n",
      "[CV 1/1] END clf__C=2.000000000000001, tfidf__ngram_range=(1, 3), tfidf__preprocessor=None, tfidf__stop_words=english;, score=0.755 total time=   1.5s\n",
      "[CV 1/1] END clf__C=2.000000000000001, tfidf__ngram_range=(1, 4), tfidf__preprocessor=<function preprocessor at 0x7f88987e8550>, tfidf__stop_words=None;, score=0.781 total time=   5.8s\n",
      "[CV 1/1] END clf__C=2.100000000000001, tfidf__ngram_range=(1, 1), tfidf__preprocessor=None, tfidf__stop_words=english;, score=0.762 total time=   0.3s\n",
      "[CV 1/1] END clf__C=2.100000000000001, tfidf__ngram_range=(1, 1), tfidf__preprocessor=<function preprocessor at 0x7f88987e85e0>, tfidf__stop_words=None;, score=0.786 total time=   1.2s\n",
      "[CV 1/1] END clf__C=2.100000000000001, tfidf__ngram_range=(1, 3), tfidf__preprocessor=None, tfidf__stop_words=None;, score=0.783 total time=   4.5s\n",
      "[CV 1/1] END clf__C=2.100000000000001, tfidf__ngram_range=(2, 3), tfidf__preprocessor=<function preprocessor at 0x7f88987e8f70>, tfidf__stop_words=None;, score=0.745 total time=   3.9s\n",
      "[CV 1/1] END clf__C=2.100000000000001, tfidf__ngram_range=(3, 4), tfidf__preprocessor=<function preprocessor at 0x7f88987e8790>, tfidf__stop_words=None;, score=0.674 total time=   3.6s\n",
      "[CV 1/1] END clf__C=2.200000000000001, tfidf__ngram_range=(1, 3), tfidf__preprocessor=<function preprocessor at 0x7f88987e8f70>, tfidf__stop_words=None;, score=0.786 total time=   3.4s\n",
      "[CV 1/1] END clf__C=2.200000000000001, tfidf__ngram_range=(2, 4), tfidf__preprocessor=None, tfidf__stop_words=english;, score=0.667 total time=   1.7s\n",
      "[CV 1/1] END clf__C=2.200000000000001, tfidf__ngram_range=(3, 4), tfidf__preprocessor=<function preprocessor at 0x7f88987e8670>, tfidf__stop_words=english;, score=0.529 total time=   1.6s\n",
      "[CV 1/1] END clf__C=2.300000000000001, tfidf__ngram_range=(1, 3), tfidf__preprocessor=None, tfidf__stop_words=None;, score=0.786 total time=   2.9s\n",
      "[CV 1/1] END clf__C=2.300000000000001, tfidf__ngram_range=(2, 3), tfidf__preprocessor=None, tfidf__stop_words=english;, score=0.669 total time=   1.3s\n",
      "[CV 1/1] END clf__C=2.300000000000001, tfidf__ngram_range=(2, 4), tfidf__preprocessor=None, tfidf__stop_words=None;, score=0.731 total time=   3.6s\n",
      "[CV 1/1] END clf__C=2.4000000000000012, tfidf__ngram_range=(1, 2), tfidf__preprocessor=<function preprocessor at 0x7f88987e83a0>, tfidf__stop_words=english;, score=0.764 total time=   1.6s\n",
      "[CV 1/1] END clf__C=2.4000000000000012, tfidf__ngram_range=(1, 4), tfidf__preprocessor=<function preprocessor at 0x7f88987e88b0>, tfidf__stop_words=None;, score=0.781 total time=   5.0s\n",
      "[CV 1/1] END clf__C=2.5000000000000013, tfidf__ngram_range=(1, 1), tfidf__preprocessor=None, tfidf__stop_words=None;, score=0.786 total time=   0.5s\n",
      "[CV 1/1] END clf__C=2.5000000000000013, tfidf__ngram_range=(1, 1), tfidf__preprocessor=<function preprocessor at 0x7f88987e8790>, tfidf__stop_words=None;, score=0.795 total time=   0.9s\n",
      "[CV 1/1] END clf__C=2.5000000000000013, tfidf__ngram_range=(1, 3), tfidf__preprocessor=None, tfidf__stop_words=None;, score=0.786 total time=   2.3s\n",
      "[CV 1/1] END clf__C=2.5000000000000013, tfidf__ngram_range=(2, 3), tfidf__preprocessor=None, tfidf__stop_words=english;, score=0.669 total time=   1.8s\n",
      "[CV 1/1] END clf__C=2.5000000000000013, tfidf__ngram_range=(2, 4), tfidf__preprocessor=None, tfidf__stop_words=None;, score=0.733 total time=   3.7s\n"
     ]
    },
    {
     "name": "stdout",
     "output_type": "stream",
     "text": [
      "[CV 1/1] END clf__C=1.0, tfidf__ngram_range=(2, 4), tfidf__preprocessor=<function preprocessor at 0x7f8f405aaee0>, tfidf__stop_words=None;, score=0.736 total time=   2.7s\n",
      "[CV 1/1] END clf__C=1.1, tfidf__ngram_range=(1, 4), tfidf__preprocessor=None, tfidf__stop_words=english;, score=0.757 total time=   1.6s\n",
      "[CV 1/1] END clf__C=1.1, tfidf__ngram_range=(2, 3), tfidf__preprocessor=<function preprocessor at 0x7f8f60beb3a0>, tfidf__stop_words=None;, score=0.738 total time=   2.5s\n",
      "[CV 1/1] END clf__C=1.1, tfidf__ngram_range=(3, 4), tfidf__preprocessor=<function preprocessor at 0x7f8f60beb670>, tfidf__stop_words=None;, score=0.664 total time=   2.0s\n",
      "[CV 1/1] END clf__C=1.2000000000000002, tfidf__ngram_range=(1, 3), tfidf__preprocessor=<function preprocessor at 0x7f8f60beb160>, tfidf__stop_words=english;, score=0.750 total time=   1.2s\n",
      "[CV 1/1] END clf__C=1.2000000000000002, tfidf__ngram_range=(2, 3), tfidf__preprocessor=None, tfidf__stop_words=None;, score=0.731 total time=   1.5s\n",
      "[CV 1/1] END clf__C=1.2000000000000002, tfidf__ngram_range=(2, 4), tfidf__preprocessor=<function preprocessor at 0x7f8f814343a0>, tfidf__stop_words=None;, score=0.733 total time=   2.9s\n",
      "[CV 1/1] END clf__C=1.3000000000000003, tfidf__ngram_range=(1, 2), tfidf__preprocessor=None, tfidf__stop_words=english;, score=0.752 total time=   0.7s\n",
      "[CV 1/1] END clf__C=1.3000000000000003, tfidf__ngram_range=(1, 3), tfidf__preprocessor=<function preprocessor at 0x7f8f81434700>, tfidf__stop_words=None;, score=0.776 total time=   2.4s\n",
      "[CV 1/1] END clf__C=1.3000000000000003, tfidf__ngram_range=(2, 4), tfidf__preprocessor=None, tfidf__stop_words=None;, score=0.731 total time=   2.7s\n",
      "[CV 1/1] END clf__C=1.4000000000000004, tfidf__ngram_range=(1, 2), tfidf__preprocessor=None, tfidf__stop_words=None;, score=0.788 total time=   0.9s\n",
      "[CV 1/1] END clf__C=1.4000000000000004, tfidf__ngram_range=(1, 3), tfidf__preprocessor=<function preprocessor at 0x7f8f8141e160>, tfidf__stop_words=None;, score=0.776 total time=   2.1s\n",
      "[CV 1/1] END clf__C=1.4000000000000004, tfidf__ngram_range=(2, 3), tfidf__preprocessor=<function preprocessor at 0x7f8f8141e790>, tfidf__stop_words=english;, score=0.667 total time=   1.4s\n",
      "[CV 1/1] END clf__C=1.4000000000000004, tfidf__ngram_range=(3, 4), tfidf__preprocessor=None, tfidf__stop_words=english;, score=0.533 total time=   1.0s\n",
      "[CV 1/1] END clf__C=1.5000000000000004, tfidf__ngram_range=(1, 1), tfidf__preprocessor=None, tfidf__stop_words=None;, score=0.774 total time=   0.3s\n",
      "[CV 1/1] END clf__C=1.5000000000000004, tfidf__ngram_range=(1, 1), tfidf__preprocessor=None, tfidf__stop_words=english;, score=0.757 total time=   0.4s\n",
      "[CV 1/1] END clf__C=1.5000000000000004, tfidf__ngram_range=(1, 1), tfidf__preprocessor=<function preprocessor at 0x7f8f60803280>, tfidf__stop_words=english;, score=0.755 total time=   0.7s\n",
      "[CV 1/1] END clf__C=1.5000000000000004, tfidf__ngram_range=(1, 3), tfidf__preprocessor=None, tfidf__stop_words=None;, score=0.779 total time=   1.7s\n",
      "[CV 1/1] END clf__C=1.5000000000000004, tfidf__ngram_range=(2, 3), tfidf__preprocessor=None, tfidf__stop_words=None;, score=0.729 total time=   2.9s\n",
      "[CV 1/1] END clf__C=1.5000000000000004, tfidf__ngram_range=(2, 4), tfidf__preprocessor=None, tfidf__stop_words=english;, score=0.664 total time=   1.5s\n",
      "[CV 1/1] END clf__C=1.6000000000000005, tfidf__ngram_range=(1, 1), tfidf__preprocessor=None, tfidf__stop_words=english;, score=0.757 total time=   0.3s\n",
      "[CV 1/1] END clf__C=1.6000000000000005, tfidf__ngram_range=(1, 1), tfidf__preprocessor=<function preprocessor at 0x7f8f60bdc310>, tfidf__stop_words=None;, score=0.774 total time=   0.7s\n",
      "[CV 1/1] END clf__C=1.6000000000000005, tfidf__ngram_range=(1, 2), tfidf__preprocessor=<function preprocessor at 0x7f8f608034c0>, tfidf__stop_words=english;, score=0.760 total time=   1.1s\n",
      "[CV 1/1] END clf__C=1.6000000000000005, tfidf__ngram_range=(1, 4), tfidf__preprocessor=<function preprocessor at 0x7f8f608035e0>, tfidf__stop_words=None;, score=0.774 total time=   3.3s\n",
      "[CV 1/1] END clf__C=1.6000000000000005, tfidf__ngram_range=(3, 4), tfidf__preprocessor=<function preprocessor at 0x7f8f608034c0>, tfidf__stop_words=None;, score=0.674 total time=   3.0s\n",
      "[CV 1/1] END clf__C=1.7000000000000006, tfidf__ngram_range=(1, 3), tfidf__preprocessor=<function preprocessor at 0x7f8f608035e0>, tfidf__stop_words=english;, score=0.755 total time=   2.4s\n",
      "[CV 1/1] END clf__C=1.7000000000000006, tfidf__ngram_range=(2, 3), tfidf__preprocessor=<function preprocessor at 0x7f8f608034c0>, tfidf__stop_words=None;, score=0.743 total time=   2.3s\n",
      "[CV 1/1] END clf__C=1.7000000000000006, tfidf__ngram_range=(3, 4), tfidf__preprocessor=<function preprocessor at 0x7f8f608035e0>, tfidf__stop_words=None;, score=0.674 total time=   2.1s\n",
      "[CV 1/1] END clf__C=1.8000000000000007, tfidf__ngram_range=(1, 4), tfidf__preprocessor=None, tfidf__stop_words=None;, score=0.781 total time=   3.0s\n",
      "[CV 1/1] END clf__C=1.8000000000000007, tfidf__ngram_range=(2, 4), tfidf__preprocessor=None, tfidf__stop_words=english;, score=0.664 total time=   1.5s\n",
      "[CV 1/1] END clf__C=1.9000000000000008, tfidf__ngram_range=(1, 1), tfidf__preprocessor=None, tfidf__stop_words=None;, score=0.781 total time=   0.3s\n",
      "[CV 1/1] END clf__C=1.9000000000000008, tfidf__ngram_range=(1, 1), tfidf__preprocessor=None, tfidf__stop_words=english;, score=0.760 total time=   0.3s\n",
      "[CV 1/1] END clf__C=1.9000000000000008, tfidf__ngram_range=(1, 2), tfidf__preprocessor=None, tfidf__stop_words=english;, score=0.757 total time=   0.8s\n",
      "[CV 1/1] END clf__C=1.9000000000000008, tfidf__ngram_range=(1, 3), tfidf__preprocessor=<function preprocessor at 0x7f8f60bef3a0>, tfidf__stop_words=None;, score=0.783 total time=   2.7s\n",
      "[CV 1/1] END clf__C=1.9000000000000008, tfidf__ngram_range=(2, 3), tfidf__preprocessor=<function preprocessor at 0x7f8f60bef670>, tfidf__stop_words=english;, score=0.667 total time=   1.8s\n",
      "[CV 1/1] END clf__C=1.9000000000000008, tfidf__ngram_range=(3, 4), tfidf__preprocessor=None, tfidf__stop_words=None;, score=0.667 total time=   2.4s\n",
      "[CV 1/1] END clf__C=2.000000000000001, tfidf__ngram_range=(1, 3), tfidf__preprocessor=None, tfidf__stop_words=None;, score=0.783 total time=   3.3s\n",
      "[CV 1/1] END clf__C=2.000000000000001, tfidf__ngram_range=(2, 3), tfidf__preprocessor=<function preprocessor at 0x7f8f814463a0>, tfidf__stop_words=english;, score=0.667 total time=   2.1s\n",
      "[CV 1/1] END clf__C=2.000000000000001, tfidf__ngram_range=(3, 4), tfidf__preprocessor=None, tfidf__stop_words=None;, score=0.669 total time=   2.6s\n",
      "[CV 1/1] END clf__C=2.100000000000001, tfidf__ngram_range=(1, 2), tfidf__preprocessor=None, tfidf__stop_words=english;, score=0.755 total time=   1.8s\n",
      "[CV 1/1] END clf__C=2.100000000000001, tfidf__ngram_range=(1, 3), tfidf__preprocessor=<function preprocessor at 0x7f8f81446820>, tfidf__stop_words=None;, score=0.786 total time=   5.2s\n",
      "[CV 1/1] END clf__C=2.100000000000001, tfidf__ngram_range=(2, 4), tfidf__preprocessor=None, tfidf__stop_words=None;, score=0.731 total time=   5.0s\n",
      "[CV 1/1] END clf__C=2.200000000000001, tfidf__ngram_range=(1, 3), tfidf__preprocessor=None, tfidf__stop_words=None;, score=0.786 total time=   2.6s\n",
      "[CV 1/1] END clf__C=2.200000000000001, tfidf__ngram_range=(2, 3), tfidf__preprocessor=None, tfidf__stop_words=english;, score=0.669 total time=   1.2s\n",
      "[CV 1/1] END clf__C=2.200000000000001, tfidf__ngram_range=(2, 4), tfidf__preprocessor=None, tfidf__stop_words=None;, score=0.731 total time=   3.6s\n",
      "[CV 1/1] END clf__C=2.300000000000001, tfidf__ngram_range=(1, 3), tfidf__preprocessor=None, tfidf__stop_words=english;, score=0.755 total time=   1.9s\n",
      "[CV 1/1] END clf__C=2.300000000000001, tfidf__ngram_range=(2, 3), tfidf__preprocessor=None, tfidf__stop_words=None;, score=0.740 total time=   2.5s\n",
      "[CV 1/1] END clf__C=2.300000000000001, tfidf__ngram_range=(2, 4), tfidf__preprocessor=<function preprocessor at 0x7f8f205054c0>, tfidf__stop_words=None;, score=0.736 total time=   4.0s\n",
      "[CV 1/1] END clf__C=2.4000000000000012, tfidf__ngram_range=(1, 3), tfidf__preprocessor=<function preprocessor at 0x7f8f205053a0>, tfidf__stop_words=english;, score=0.760 total time=   2.3s\n",
      "[CV 1/1] END clf__C=2.4000000000000012, tfidf__ngram_range=(2, 3), tfidf__preprocessor=<function preprocessor at 0x7f8f607f1280>, tfidf__stop_words=None;, score=0.745 total time=   3.2s\n",
      "[CV 1/1] END clf__C=2.4000000000000012, tfidf__ngram_range=(3, 4), tfidf__preprocessor=<function preprocessor at 0x7f8f607d73a0>, tfidf__stop_words=None;, score=0.674 total time=   2.8s\n",
      "[CV 1/1] END clf__C=2.5000000000000013, tfidf__ngram_range=(1, 4), tfidf__preprocessor=None, tfidf__stop_words=english;, score=0.760 total time=   2.3s\n",
      "[CV 1/1] END clf__C=2.5000000000000013, tfidf__ngram_range=(2, 3), tfidf__preprocessor=<function preprocessor at 0x7f8f607d70d0>, tfidf__stop_words=None;, score=0.743 total time=   3.4s\n",
      "[CV 1/1] END clf__C=2.5000000000000013, tfidf__ngram_range=(3, 4), tfidf__preprocessor=<function preprocessor at 0x7f8f607d71f0>, tfidf__stop_words=english;, score=0.531 total time=   1.4s\n"
     ]
    },
    {
     "name": "stdout",
     "output_type": "stream",
     "text": [
      "[CV 1/1] END clf__C=1.0, tfidf__ngram_range=(3, 4), tfidf__preprocessor=None, tfidf__stop_words=None;, score=0.664 total time=   1.7s\n",
      "[CV 1/1] END clf__C=1.1, tfidf__ngram_range=(1, 3), tfidf__preprocessor=<function preprocessor at 0x7fd0c8332dc0>, tfidf__stop_words=english;, score=0.750 total time=   1.4s\n",
      "[CV 1/1] END clf__C=1.1, tfidf__ngram_range=(2, 3), tfidf__preprocessor=None, tfidf__stop_words=None;, score=0.729 total time=   1.9s\n",
      "[CV 1/1] END clf__C=1.1, tfidf__ngram_range=(2, 4), tfidf__preprocessor=<function preprocessor at 0x7fd0e9996310>, tfidf__stop_words=english;, score=0.660 total time=   2.0s\n",
      "[CV 1/1] END clf__C=1.2000000000000002, tfidf__ngram_range=(1, 1), tfidf__preprocessor=None, tfidf__stop_words=english;, score=0.767 total time=   0.3s\n",
      "[CV 1/1] END clf__C=1.2000000000000002, tfidf__ngram_range=(1, 2), tfidf__preprocessor=None, tfidf__stop_words=None;, score=0.783 total time=   0.9s\n",
      "[CV 1/1] END clf__C=1.2000000000000002, tfidf__ngram_range=(1, 3), tfidf__preprocessor=None, tfidf__stop_words=english;, score=0.755 total time=   0.9s\n",
      "[CV 1/1] END clf__C=1.2000000000000002, tfidf__ngram_range=(1, 4), tfidf__preprocessor=<function preprocessor at 0x7fd0b8b5c700>, tfidf__stop_words=english;, score=0.752 total time=   1.7s\n",
      "[CV 1/1] END clf__C=1.2000000000000002, tfidf__ngram_range=(2, 4), tfidf__preprocessor=None, tfidf__stop_words=None;, score=0.731 total time=   2.5s\n",
      "[CV 1/1] END clf__C=1.3000000000000003, tfidf__ngram_range=(1, 1), tfidf__preprocessor=<function preprocessor at 0x7fd0b8b5c790>, tfidf__stop_words=None;, score=0.771 total time=   0.7s\n",
      "[CV 1/1] END clf__C=1.3000000000000003, tfidf__ngram_range=(1, 2), tfidf__preprocessor=<function preprocessor at 0x7fd0b8b5c5e0>, tfidf__stop_words=None;, score=0.781 total time=   1.5s\n",
      "[CV 1/1] END clf__C=1.3000000000000003, tfidf__ngram_range=(2, 3), tfidf__preprocessor=None, tfidf__stop_words=None;, score=0.731 total time=   1.9s\n",
      "[CV 1/1] END clf__C=1.3000000000000003, tfidf__ngram_range=(2, 4), tfidf__preprocessor=<function preprocessor at 0x7fd0b8b5c550>, tfidf__stop_words=None;, score=0.733 total time=   3.0s\n",
      "[CV 1/1] END clf__C=1.4000000000000004, tfidf__ngram_range=(1, 3), tfidf__preprocessor=None, tfidf__stop_words=None;, score=0.779 total time=   1.6s\n",
      "[CV 1/1] END clf__C=1.4000000000000004, tfidf__ngram_range=(2, 3), tfidf__preprocessor=None, tfidf__stop_words=None;, score=0.729 total time=   1.6s\n",
      "[CV 1/1] END clf__C=1.4000000000000004, tfidf__ngram_range=(2, 4), tfidf__preprocessor=<function preprocessor at 0x7fd0b8b5c670>, tfidf__stop_words=None;, score=0.731 total time=   3.4s\n",
      "[CV 1/1] END clf__C=1.5000000000000004, tfidf__ngram_range=(1, 3), tfidf__preprocessor=None, tfidf__stop_words=english;, score=0.755 total time=   1.1s\n",
      "[CV 1/1] END clf__C=1.5000000000000004, tfidf__ngram_range=(1, 4), tfidf__preprocessor=<function preprocessor at 0x7fd0b8b5c790>, tfidf__stop_words=english;, score=0.755 total time=   3.5s\n",
      "[CV 1/1] END clf__C=1.5000000000000004, tfidf__ngram_range=(3, 4), tfidf__preprocessor=None, tfidf__stop_words=None;, score=0.669 total time=   2.1s\n",
      "[CV 1/1] END clf__C=1.6000000000000005, tfidf__ngram_range=(1, 2), tfidf__preprocessor=None, tfidf__stop_words=english;, score=0.757 total time=   0.8s\n",
      "[CV 1/1] END clf__C=1.6000000000000005, tfidf__ngram_range=(1, 3), tfidf__preprocessor=None, tfidf__stop_words=english;, score=0.755 total time=   1.1s\n",
      "[CV 1/1] END clf__C=1.6000000000000005, tfidf__ngram_range=(2, 3), tfidf__preprocessor=None, tfidf__stop_words=None;, score=0.733 total time=   1.6s\n",
      "[CV 1/1] END clf__C=1.6000000000000005, tfidf__ngram_range=(2, 4), tfidf__preprocessor=None, tfidf__stop_words=english;, score=0.664 total time=   1.2s\n",
      "[CV 1/1] END clf__C=1.6000000000000005, tfidf__ngram_range=(3, 4), tfidf__preprocessor=None, tfidf__stop_words=english;, score=0.533 total time=   1.0s\n",
      "[CV 1/1] END clf__C=1.7000000000000006, tfidf__ngram_range=(1, 1), tfidf__preprocessor=None, tfidf__stop_words=None;, score=0.779 total time=   0.3s\n",
      "[CV 1/1] END clf__C=1.7000000000000006, tfidf__ngram_range=(1, 1), tfidf__preprocessor=None, tfidf__stop_words=english;, score=0.760 total time=   0.3s\n",
      "[CV 1/1] END clf__C=1.7000000000000006, tfidf__ngram_range=(1, 1), tfidf__preprocessor=<function preprocessor at 0x7fd0b8b5c700>, tfidf__stop_words=None;, score=0.776 total time=   0.8s\n",
      "[CV 1/1] END clf__C=1.7000000000000006, tfidf__ngram_range=(1, 3), tfidf__preprocessor=None, tfidf__stop_words=english;, score=0.755 total time=   1.8s\n",
      "[CV 1/1] END clf__C=1.7000000000000006, tfidf__ngram_range=(1, 4), tfidf__preprocessor=<function preprocessor at 0x7fd0b8b5c550>, tfidf__stop_words=english;, score=0.752 total time=   2.6s\n",
      "[CV 1/1] END clf__C=1.7000000000000006, tfidf__ngram_range=(2, 4), tfidf__preprocessor=<function preprocessor at 0x7fd0b8b5c670>, tfidf__stop_words=english;, score=0.664 total time=   1.7s\n",
      "[CV 1/1] END clf__C=1.8000000000000007, tfidf__ngram_range=(1, 1), tfidf__preprocessor=<function preprocessor at 0x7fd0b8b5c550>, tfidf__stop_words=english;, score=0.755 total time=   0.7s\n",
      "[CV 1/1] END clf__C=1.8000000000000007, tfidf__ngram_range=(1, 3), tfidf__preprocessor=None, tfidf__stop_words=english;, score=0.755 total time=   1.0s\n",
      "[CV 1/1] END clf__C=1.8000000000000007, tfidf__ngram_range=(1, 4), tfidf__preprocessor=<function preprocessor at 0x7fd0b8b5c5e0>, tfidf__stop_words=None;, score=0.776 total time=   3.6s\n",
      "[CV 1/1] END clf__C=1.8000000000000007, tfidf__ngram_range=(3, 4), tfidf__preprocessor=<function preprocessor at 0x7fd0b8b5c820>, tfidf__stop_words=None;, score=0.676 total time=   2.4s\n",
      "[CV 1/1] END clf__C=1.9000000000000008, tfidf__ngram_range=(1, 4), tfidf__preprocessor=None, tfidf__stop_words=None;, score=0.783 total time=   3.5s\n",
      "[CV 1/1] END clf__C=1.9000000000000008, tfidf__ngram_range=(2, 4), tfidf__preprocessor=<function preprocessor at 0x7fd0b8b5c790>, tfidf__stop_words=english;, score=0.664 total time=   2.0s\n",
      "[CV 1/1] END clf__C=2.000000000000001, tfidf__ngram_range=(1, 2), tfidf__preprocessor=None, tfidf__stop_words=None;, score=0.790 total time=   1.2s\n",
      "[CV 1/1] END clf__C=2.000000000000001, tfidf__ngram_range=(1, 3), tfidf__preprocessor=<function preprocessor at 0x7fd0b8b5c670>, tfidf__stop_words=english;, score=0.757 total time=   2.6s\n",
      "[CV 1/1] END clf__C=2.000000000000001, tfidf__ngram_range=(2, 3), tfidf__preprocessor=None, tfidf__stop_words=english;, score=0.669 total time=   1.6s\n",
      "[CV 1/1] END clf__C=2.000000000000001, tfidf__ngram_range=(2, 4), tfidf__preprocessor=None, tfidf__stop_words=english;, score=0.667 total time=   2.4s\n",
      "[CV 1/1] END clf__C=2.000000000000001, tfidf__ngram_range=(3, 4), tfidf__preprocessor=<function preprocessor at 0x7fd0b8b5c5e0>, tfidf__stop_words=english;, score=0.529 total time=   2.3s\n",
      "[CV 1/1] END clf__C=2.100000000000001, tfidf__ngram_range=(1, 3), tfidf__preprocessor=None, tfidf__stop_words=english;, score=0.755 total time=   2.9s\n",
      "[CV 1/1] END clf__C=2.100000000000001, tfidf__ngram_range=(2, 3), tfidf__preprocessor=None, tfidf__stop_words=None;, score=0.740 total time=   3.9s\n",
      "[CV 1/1] END clf__C=2.100000000000001, tfidf__ngram_range=(2, 4), tfidf__preprocessor=<function preprocessor at 0x7fd0b8b5c550>, tfidf__stop_words=english;, score=0.667 total time=   3.0s\n",
      "[CV 1/1] END clf__C=2.200000000000001, tfidf__ngram_range=(1, 2), tfidf__preprocessor=None, tfidf__stop_words=None;, score=0.793 total time=   1.4s\n",
      "[CV 1/1] END clf__C=2.200000000000001, tfidf__ngram_range=(1, 3), tfidf__preprocessor=<function preprocessor at 0x7fd0b8b5c700>, tfidf__stop_words=english;, score=0.757 total time=   2.2s\n",
      "[CV 1/1] END clf__C=2.200000000000001, tfidf__ngram_range=(2, 3), tfidf__preprocessor=<function preprocessor at 0x7fd0b8b5cf70>, tfidf__stop_words=english;, score=0.664 total time=   1.9s\n",
      "[CV 1/1] END clf__C=2.200000000000001, tfidf__ngram_range=(3, 4), tfidf__preprocessor=None, tfidf__stop_words=english;, score=0.533 total time=   1.1s\n",
      "[CV 1/1] END clf__C=2.300000000000001, tfidf__ngram_range=(1, 1), tfidf__preprocessor=None, tfidf__stop_words=None;, score=0.786 total time=   0.4s\n",
      "[CV 1/1] END clf__C=2.300000000000001, tfidf__ngram_range=(1, 1), tfidf__preprocessor=<function preprocessor at 0x7fd0b8b5c670>, tfidf__stop_words=None;, score=0.790 total time=   0.8s\n",
      "[CV 1/1] END clf__C=2.300000000000001, tfidf__ngram_range=(1, 2), tfidf__preprocessor=<function preprocessor at 0x7fd0b8b5cf70>, tfidf__stop_words=english;, score=0.767 total time=   1.9s\n",
      "[CV 1/1] END clf__C=2.300000000000001, tfidf__ngram_range=(1, 4), tfidf__preprocessor=<function preprocessor at 0x7fd0b8b5c670>, tfidf__stop_words=None;, score=0.781 total time=   4.9s\n",
      "[CV 1/1] END clf__C=2.4000000000000012, tfidf__ngram_range=(1, 1), tfidf__preprocessor=None, tfidf__stop_words=english;, score=0.760 total time=   0.4s\n",
      "[CV 1/1] END clf__C=2.4000000000000012, tfidf__ngram_range=(1, 1), tfidf__preprocessor=<function preprocessor at 0x7fd0b8b5cf70>, tfidf__stop_words=english;, score=0.757 total time=   0.9s\n",
      "[CV 1/1] END clf__C=2.4000000000000012, tfidf__ngram_range=(1, 3), tfidf__preprocessor=None, tfidf__stop_words=None;, score=0.786 total time=   2.8s\n",
      "[CV 1/1] END clf__C=2.4000000000000012, tfidf__ngram_range=(2, 3), tfidf__preprocessor=None, tfidf__stop_words=english;, score=0.669 total time=   1.6s\n",
      "[CV 1/1] END clf__C=2.4000000000000012, tfidf__ngram_range=(2, 4), tfidf__preprocessor=None, tfidf__stop_words=english;, score=0.669 total time=   1.9s\n",
      "[CV 1/1] END clf__C=2.4000000000000012, tfidf__ngram_range=(3, 4), tfidf__preprocessor=<function preprocessor at 0x7fd0b8b5c5e0>, tfidf__stop_words=english;, score=0.529 total time=   1.7s\n",
      "[CV 1/1] END clf__C=2.5000000000000013, tfidf__ngram_range=(1, 3), tfidf__preprocessor=None, tfidf__stop_words=english;, score=0.757 total time=   1.6s\n",
      "[CV 1/1] END clf__C=2.5000000000000013, tfidf__ngram_range=(2, 3), tfidf__preprocessor=None, tfidf__stop_words=None;, score=0.738 total time=   2.9s\n",
      "[CV 1/1] END clf__C=2.5000000000000013, tfidf__ngram_range=(2, 4), tfidf__preprocessor=<function preprocessor at 0x7fd0b8b5c700>, tfidf__stop_words=None;, score=0.738 total time=   3.8s\n",
      "[CV 1/1] END clf__C=1.2000000000000002, tfidf__ngram_range=(1, 4), tfidf__preprocessor=None, tfidf__stop_words=None;, score=0.786 total time=   2.9s\n",
      "[CV 1/1] END clf__C=1.2000000000000002, tfidf__ngram_range=(3, 4), tfidf__preprocessor=<function preprocessor at 0x7fa3e83fbdc0>, tfidf__stop_words=english;, score=0.529 total time=   1.2s\n",
      "[CV 1/1] END clf__C=1.3000000000000003, tfidf__ngram_range=(1, 3), tfidf__preprocessor=None, tfidf__stop_words=None;, score=0.779 total time=   2.1s\n",
      "[CV 1/1] END clf__C=1.3000000000000003, tfidf__ngram_range=(2, 3), tfidf__preprocessor=None, tfidf__stop_words=english;, score=0.669 total time=   1.0s\n",
      "[CV 1/1] END clf__C=1.3000000000000003, tfidf__ngram_range=(2, 4), tfidf__preprocessor=None, tfidf__stop_words=english;, score=0.667 total time=   1.4s\n",
      "[CV 1/1] END clf__C=1.3000000000000003, tfidf__ngram_range=(3, 4), tfidf__preprocessor=<function preprocessor at 0x7fa410f37790>, tfidf__stop_words=None;, score=0.667 total time=   2.2s\n",
      "[CV 1/1] END clf__C=1.4000000000000004, tfidf__ngram_range=(1, 4), tfidf__preprocessor=None, tfidf__stop_words=None;, score=0.781 total time=   3.0s\n",
      "[CV 1/1] END clf__C=1.4000000000000004, tfidf__ngram_range=(2, 4), tfidf__preprocessor=<function preprocessor at 0x7fa4108c7670>, tfidf__stop_words=english;, score=0.662 total time=   1.9s\n",
      "[CV 1/1] END clf__C=1.5000000000000004, tfidf__ngram_range=(1, 1), tfidf__preprocessor=<function preprocessor at 0x7fa4108c75e0>, tfidf__stop_words=None;, score=0.771 total time=   0.8s\n",
      "[CV 1/1] END clf__C=1.5000000000000004, tfidf__ngram_range=(1, 2), tfidf__preprocessor=<function preprocessor at 0x7fa4108c7670>, tfidf__stop_words=english;, score=0.760 total time=   1.0s\n",
      "[CV 1/1] END clf__C=1.5000000000000004, tfidf__ngram_range=(1, 4), tfidf__preprocessor=<function preprocessor at 0x7fa4108c75e0>, tfidf__stop_words=None;, score=0.774 total time=   4.9s\n",
      "[CV 1/1] END clf__C=1.5000000000000004, tfidf__ngram_range=(3, 4), tfidf__preprocessor=<function preprocessor at 0x7fa4108c7670>, tfidf__stop_words=None;, score=0.674 total time=   2.4s\n",
      "[CV 1/1] END clf__C=1.6000000000000005, tfidf__ngram_range=(1, 4), tfidf__preprocessor=None, tfidf__stop_words=english;, score=0.762 total time=   1.7s\n",
      "[CV 1/1] END clf__C=1.6000000000000005, tfidf__ngram_range=(2, 3), tfidf__preprocessor=<function preprocessor at 0x7fa4108c7700>, tfidf__stop_words=english;, score=0.667 total time=   1.2s\n",
      "[CV 1/1] END clf__C=1.6000000000000005, tfidf__ngram_range=(3, 4), tfidf__preprocessor=None, tfidf__stop_words=None;, score=0.669 total time=   2.2s\n",
      "[CV 1/1] END clf__C=1.7000000000000006, tfidf__ngram_range=(1, 2), tfidf__preprocessor=None, tfidf__stop_words=None;, score=0.788 total time=   1.3s\n",
      "[CV 1/1] END clf__C=1.7000000000000006, tfidf__ngram_range=(1, 4), tfidf__preprocessor=None, tfidf__stop_words=None;, score=0.781 total time=   3.9s\n",
      "[CV 1/1] END clf__C=1.7000000000000006, tfidf__ngram_range=(3, 4), tfidf__preprocessor=None, tfidf__stop_words=None;, score=0.669 total time=   1.9s\n",
      "[CV 1/1] END clf__C=1.8000000000000007, tfidf__ngram_range=(1, 2), tfidf__preprocessor=None, tfidf__stop_words=english;, score=0.757 total time=   0.7s\n",
      "[CV 1/1] END clf__C=1.8000000000000007, tfidf__ngram_range=(1, 3), tfidf__preprocessor=<function preprocessor at 0x7fa4108c73a0>, tfidf__stop_words=None;, score=0.781 total time=   2.3s\n",
      "[CV 1/1] END clf__C=1.8000000000000007, tfidf__ngram_range=(2, 3), tfidf__preprocessor=<function preprocessor at 0x7fa4108c7f70>, tfidf__stop_words=None;, score=0.743 total time=   2.3s\n",
      "[CV 1/1] END clf__C=1.8000000000000007, tfidf__ngram_range=(3, 4), tfidf__preprocessor=<function preprocessor at 0x7fa4108c73a0>, tfidf__stop_words=english;, score=0.529 total time=   1.3s\n",
      "[CV 1/1] END clf__C=1.9000000000000008, tfidf__ngram_range=(1, 3), tfidf__preprocessor=None, tfidf__stop_words=None;, score=0.781 total time=   2.3s\n",
      "[CV 1/1] END clf__C=1.9000000000000008, tfidf__ngram_range=(2, 3), tfidf__preprocessor=<function preprocessor at 0x7fa4108c75e0>, tfidf__stop_words=None;, score=0.743 total time=   2.8s\n",
      "[CV 1/1] END clf__C=1.9000000000000008, tfidf__ngram_range=(3, 4), tfidf__preprocessor=None, tfidf__stop_words=english;, score=0.533 total time=   1.1s\n",
      "[CV 1/1] END clf__C=2.000000000000001, tfidf__ngram_range=(1, 1), tfidf__preprocessor=<function preprocessor at 0x7fa4108c7550>, tfidf__stop_words=None;, score=0.783 total time=   0.9s\n",
      "[CV 1/1] END clf__C=2.000000000000001, tfidf__ngram_range=(1, 2), tfidf__preprocessor=<function preprocessor at 0x7fa4108c7e50>, tfidf__stop_words=None;, score=0.788 total time=   2.0s\n",
      "[CV 1/1] END clf__C=2.000000000000001, tfidf__ngram_range=(2, 3), tfidf__preprocessor=None, tfidf__stop_words=None;, score=0.738 total time=   3.3s\n",
      "[CV 1/1] END clf__C=2.000000000000001, tfidf__ngram_range=(2, 4), tfidf__preprocessor=<function preprocessor at 0x7fa4108c7f70>, tfidf__stop_words=english;, score=0.664 total time=   2.8s\n",
      "[CV 1/1] END clf__C=2.100000000000001, tfidf__ngram_range=(1, 2), tfidf__preprocessor=None, tfidf__stop_words=None;, score=0.793 total time=   2.1s\n",
      "[CV 1/1] END clf__C=2.100000000000001, tfidf__ngram_range=(1, 3), tfidf__preprocessor=<function preprocessor at 0x7fa4108c7ee0>, tfidf__stop_words=english;, score=0.757 total time=   3.1s\n",
      "[CV 1/1] END clf__C=2.100000000000001, tfidf__ngram_range=(2, 3), tfidf__preprocessor=None, tfidf__stop_words=english;, score=0.669 total time=   2.0s\n",
      "[CV 1/1] END clf__C=2.100000000000001, tfidf__ngram_range=(2, 4), tfidf__preprocessor=None, tfidf__stop_words=english;, score=0.667 total time=   2.7s\n",
      "[CV 1/1] END clf__C=2.100000000000001, tfidf__ngram_range=(3, 4), tfidf__preprocessor=<function preprocessor at 0x7fa4108c7550>, tfidf__stop_words=english;, score=0.529 total time=   1.9s\n",
      "[CV 1/1] END clf__C=2.200000000000001, tfidf__ngram_range=(1, 2), tfidf__preprocessor=<function preprocessor at 0x7fa4108c7ee0>, tfidf__stop_words=None;, score=0.788 total time=   1.8s\n",
      "[CV 1/1] END clf__C=2.200000000000001, tfidf__ngram_range=(2, 3), tfidf__preprocessor=None, tfidf__stop_words=None;, score=0.740 total time=   2.3s\n",
      "[CV 1/1] END clf__C=2.200000000000001, tfidf__ngram_range=(2, 4), tfidf__preprocessor=<function preprocessor at 0x7fa4108c75e0>, tfidf__stop_words=None;, score=0.736 total time=   4.3s\n",
      "[CV 1/1] END clf__C=2.300000000000001, tfidf__ngram_range=(1, 4), tfidf__preprocessor=None, tfidf__stop_words=None;, score=0.781 total time=   4.0s\n",
      "[CV 1/1] END clf__C=2.300000000000001, tfidf__ngram_range=(3, 4), tfidf__preprocessor=None, tfidf__stop_words=None;, score=0.667 total time=   2.4s\n",
      "[CV 1/1] END clf__C=2.4000000000000012, tfidf__ngram_range=(1, 2), tfidf__preprocessor=None, tfidf__stop_words=english;, score=0.757 total time=   1.1s\n",
      "[CV 1/1] END clf__C=2.4000000000000012, tfidf__ngram_range=(1, 4), tfidf__preprocessor=None, tfidf__stop_words=None;, score=0.781 total time=   4.4s\n",
      "[CV 1/1] END clf__C=2.4000000000000012, tfidf__ngram_range=(2, 4), tfidf__preprocessor=<function preprocessor at 0x7fa4108c73a0>, tfidf__stop_words=english;, score=0.667 total time=   2.5s\n",
      "[CV 1/1] END clf__C=2.5000000000000013, tfidf__ngram_range=(1, 2), tfidf__preprocessor=None, tfidf__stop_words=english;, score=0.757 total time=   1.0s\n",
      "[CV 1/1] END clf__C=2.5000000000000013, tfidf__ngram_range=(1, 3), tfidf__preprocessor=<function preprocessor at 0x7fa4108c7550>, tfidf__stop_words=None;, score=0.793 total time=   3.5s\n",
      "[CV 1/1] END clf__C=2.5000000000000013, tfidf__ngram_range=(2, 4), tfidf__preprocessor=None, tfidf__stop_words=english;, score=0.669 total time=   2.0s\n",
      "[CV 1/1] END clf__C=2.5000000000000013, tfidf__ngram_range=(3, 4), tfidf__preprocessor=<function preprocessor at 0x7fa4108c7700>, tfidf__stop_words=None;, score=0.674 total time=   2.3s\n"
     ]
    }
   ],
   "source": [
    "grid_search_tune = GridSearchCV(pipeline, parameters, verbose=3, n_jobs=-1, cv=ps)\n",
    "grid_search_tune.fit(total['review'], total['label'])\n",
    "\n",
    "print(\"Best parameters set:\")\n",
    "print(grid_search_tune.best_estimator_.steps)\n",
    "print(grid_search_tune.best_estimator_)\n"
   ]
  },
  {
   "cell_type": "code",
   "execution_count": 88,
   "id": "608c33fc",
   "metadata": {},
   "outputs": [
    {
     "data": {
      "text/plain": [
       "Pipeline(steps=[('tfidf',\n",
       "                 TfidfVectorizer(ngram_range=(1, 2), strip_accents='unicode',\n",
       "                                 sublinear_tf=True)),\n",
       "                ('clf',\n",
       "                 LogisticRegression(C=2.4000000000000012, max_iter=10000,\n",
       "                                    random_state=0))])"
      ]
     },
     "execution_count": 88,
     "metadata": {},
     "output_type": "execute_result"
    }
   ],
   "source": [
    "grid_search_tune.best_estimator_"
   ]
  },
  {
   "cell_type": "code",
   "execution_count": 72,
   "id": "41b2dc45",
   "metadata": {},
   "outputs": [
    {
     "data": {
      "text/plain": [
       "(0.9559144478393714, 0.8047619047619048)"
      ]
     },
     "execution_count": 72,
     "metadata": {},
     "output_type": "execute_result"
    }
   ],
   "source": [
    "tfidf_vectorizer = TfidfVectorizer(decode_error='strict', lowercase=True, ngram_range=(1, 2), \\\n",
    "          strip_accents='unicode', sublinear_tf=True,use_idf=True).fit([preprocessor(t) for t in train[\"review\"]])\n",
    "cls = LogisticRegression(random_state=0, solver='lbfgs', max_iter=10000 ,C=2.4)\n",
    "cls.fit(X_train, y_train)\n",
    "cls.score(X_train, y_train), cls.score(X_dev, y_dev)"
   ]
  },
  {
   "cell_type": "markdown",
   "id": "e2acb88d",
   "metadata": {},
   "source": [
    "#### Conclusion:\n",
    "I found a better result with GridSearch: **0.8047619047619048**."
   ]
  },
  {
   "cell_type": "code",
   "execution_count": null,
   "id": "29b10f03",
   "metadata": {},
   "outputs": [],
   "source": []
  },
  {
   "cell_type": "code",
   "execution_count": null,
   "id": "759467d0",
   "metadata": {},
   "outputs": [],
   "source": []
  },
  {
   "cell_type": "markdown",
   "id": "92cd1224",
   "metadata": {},
   "source": [
    "### 2.2.2 Use Word2Vec to extract features"
   ]
  },
  {
   "cell_type": "code",
   "execution_count": 94,
   "id": "b957d190",
   "metadata": {},
   "outputs": [],
   "source": [
    "import gensim\n",
    "from gensim.models import Word2Vec\n",
    "from gensim.utils import simple_preprocess\n",
    "\n",
    "from gensim.models.keyedvectors import KeyedVectors"
   ]
  },
  {
   "cell_type": "code",
   "execution_count": 95,
   "id": "653a8733",
   "metadata": {},
   "outputs": [],
   "source": [
    "def review_to_wordlist(review):\n",
    "    text = preprocessor(review)\n",
    "    words = text.split()\n",
    "    return(words)"
   ]
  },
  {
   "cell_type": "code",
   "execution_count": 96,
   "id": "7f47f0f4",
   "metadata": {},
   "outputs": [],
   "source": [
    "tokenizer = nltk.data.load('tokenizers/punkt/english.pickle')\n",
    "def review_to_sentences(review, tokenizer):\n",
    "    raw_sentences = tokenizer.tokenize(review.strip())\n",
    "    \n",
    "    sentences = []\n",
    "    for raw_sentence in raw_sentences:\n",
    "        if len(raw_sentence) > 0:\n",
    "            sentences.append(review_to_wordlist(raw_sentence))\n",
    "    return sentences"
   ]
  },
  {
   "cell_type": "code",
   "execution_count": 97,
   "id": "7264dd89",
   "metadata": {},
   "outputs": [],
   "source": [
    "sentences = []\n",
    "\n",
    "for review in train[\"review\"]:\n",
    "    sentences += review_to_sentences(review, tokenizer)\n"
   ]
  },
  {
   "cell_type": "code",
   "execution_count": 267,
   "id": "c5f5e79a",
   "metadata": {},
   "outputs": [],
   "source": [
    "num_features = 50\n",
    "min_word_count = 2\n",
    "num_workers = 4       \n",
    "context = 5         \n",
    "downsampling = 5e-3 \n",
    "sg = 0\n",
    "alpha=0.05\n",
    "# negwords = 6\n",
    "\n",
    "model = Word2Vec(sentences, sg=sg, workers=num_workers, vector_size=num_features, min_count = min_word_count, \\\n",
    "                 window = context, cbow_mean=1, hs=0, sample = downsampling, \\\n",
    "                 alpha = alpha, min_alpha = 1e-5) # , negative = negwords)"
   ]
  },
  {
   "cell_type": "code",
   "execution_count": 269,
   "id": "af84ca0f",
   "metadata": {},
   "outputs": [
    {
     "data": {
      "text/plain": [
       "([('great', 0.8173513412475586),\n",
       "  ('fast', 0.7630858421325684),\n",
       "  ('bad', 0.7569719552993774),\n",
       "  ('nice', 0.7550837397575378),\n",
       "  ('ok', 0.7261162400245667),\n",
       "  ('decent', 0.7099089026451111),\n",
       "  ('busy', 0.7031325101852417),\n",
       "  ('terrible', 0.7017742395401001),\n",
       "  ('high', 0.7014501690864563),\n",
       "  ('wonderful', 0.7003716230392456)],\n",
       " [('toward', 0.8935975432395935),\n",
       "  ('orange', 0.8910602927207947),\n",
       "  ('inattentive', 0.8908618688583374),\n",
       "  ('acceptable', 0.8894691467285156),\n",
       "  ('lacking', 0.8890858888626099),\n",
       "  ('poor', 0.8853660821914673),\n",
       "  ('extremely', 0.8836950063705444),\n",
       "  ('terrible', 0.8792463541030884),\n",
       "  ('bland', 0.8730683326721191),\n",
       "  ('slow', 0.8712881207466125)])"
      ]
     },
     "execution_count": 269,
     "metadata": {},
     "output_type": "execute_result"
    }
   ],
   "source": [
    "model.wv.most_similar('good'), model.wv.most_similar('awful')"
   ]
  },
  {
   "cell_type": "code",
   "execution_count": 270,
   "id": "aca7ba0c",
   "metadata": {},
   "outputs": [],
   "source": [
    "voc = model.wv.index_to_key"
   ]
  },
  {
   "cell_type": "code",
   "execution_count": 296,
   "id": "3135982f",
   "metadata": {},
   "outputs": [
    {
     "data": {
      "image/png": "[encoded data removed]",
      "text/plain": [
       "<Figure size 1008x576 with 1 Axes>"
      ]
     },
     "metadata": {
      "needs_background": "light"
     },
     "output_type": "display_data"
    }
   ],
   "source": [
    "X_tsne = TSNE(n_components=2,learning_rate=100).fit_transform(model.wv[voc[:50]])\n",
    "\n",
    "plt.figure(figsize=(14, 8)) \n",
    "\n",
    "plt.scatter(X_tsne[:,0],X_tsne[:,1])\n",
    "for i in range(len(X_tsne)):\n",
    "    x=X_tsne[i][0]\n",
    "    y=X_tsne[i][1]\n",
    "    plt.text(x , y ,voc[:50][i], size = 16)\n",
    "plt.show()"
   ]
  },
  {
   "cell_type": "code",
   "execution_count": 307,
   "id": "185a68a3",
   "metadata": {},
   "outputs": [],
   "source": [
    "np.seterr(divide='ignore', invalid='ignore')\n",
    "def makeFeatureVec(words, model, num_features, glove):\n",
    "    featureVec = np.zeros((num_features,))\n",
    "    nwords = 0\n",
    "    if glove == True:\n",
    "        index2word_set = set(model.index_to_key)\n",
    "    else:\n",
    "        index2word_set = set(model.wv.index_to_key)\n",
    "    \n",
    "    # if this word in wordset\n",
    "    for word in words:\n",
    "        if word in index2word_set: \n",
    "            nwords = nwords + 1.\n",
    "            if glove == True:\n",
    "                featureVec = np.add(featureVec, model[word])\n",
    "            else:\n",
    "                featureVec = np.add(featureVec, model.wv[word])\n",
    "    if nwords == 0:\n",
    "        return featureVec\n",
    "    # get average vector\n",
    "    featureVec = np.divide(featureVec, nwords)\n",
    "    return featureVec\n",
    "\n",
    "\n",
    "def getAvgFeatureVecs(reviews, model, num_features, glove):\n",
    "    counter = 0\n",
    "    \n",
    "    reviewFeatureVecs = np.zeros((len(reviews),num_features))\n",
    "    \n",
    "    for review in reviews:\n",
    "        reviewFeatureVecs[counter] = makeFeatureVec(review, model, num_features, glove)\n",
    "        counter += 1\n",
    "    return reviewFeatureVecs"
   ]
  },
  {
   "cell_type": "code",
   "execution_count": 273,
   "id": "52d6b91d",
   "metadata": {},
   "outputs": [],
   "source": [
    "train_reviews = []\n",
    "for review in train[\"review\"]:\n",
    "    train_reviews.append(review_to_wordlist(review))\n",
    "trainDataVecs = getAvgFeatureVecs(train_reviews, model, num_features, False)\n",
    "\n",
    "dev_reviews = []\n",
    "for review in dev[\"review\"]:\n",
    "    dev_reviews.append(review_to_wordlist(review))\n",
    "devDataVecs = getAvgFeatureVecs(dev_reviews, model, num_features, False)\n"
   ]
  },
  {
   "cell_type": "code",
   "execution_count": 274,
   "id": "fa604850",
   "metadata": {},
   "outputs": [
    {
     "data": {
      "text/plain": [
       "LogisticRegression(max_iter=10000, random_state=0)"
      ]
     },
     "execution_count": 274,
     "metadata": {},
     "output_type": "execute_result"
    }
   ],
   "source": [
    "newcls = LogisticRegression(random_state=0, solver='lbfgs', max_iter=10000)\n",
    "newcls.fit(trainDataVecs, y_train)"
   ]
  },
  {
   "cell_type": "code",
   "execution_count": 309,
   "id": "c8aefae5",
   "metadata": {},
   "outputs": [],
   "source": [
    "def find_bestc(trainDataVecs, devGloveVecs):\n",
    "    newpara = {'C':np.arange(0.5, 2.5, 0.1)}\n",
    "    clff = GridSearchCV(newcls, newpara, cv=ps).fit(np.concatenate([trainDataVecs, devDataVecs]), \\\n",
    "                                                    pd.concat([y_train, y_dev]))\n",
    "    print(clff.best_estimator_)"
   ]
  },
  {
   "cell_type": "code",
   "execution_count": 276,
   "id": "63259fb8",
   "metadata": {},
   "outputs": [
    {
     "name": "stdout",
     "output_type": "stream",
     "text": [
      "LogisticRegression(C=0.8999999999999999, max_iter=10000, random_state=0)\n"
     ]
    }
   ],
   "source": [
    "find_bestc(trainDataVecs, devGloveVecs)"
   ]
  },
  {
   "cell_type": "code",
   "execution_count": 277,
   "id": "e1d8c7b8",
   "metadata": {},
   "outputs": [
    {
     "data": {
      "text/plain": [
       "0.6904761904761905"
      ]
     },
     "execution_count": 277,
     "metadata": {},
     "output_type": "execute_result"
    }
   ],
   "source": [
    "newcls = LogisticRegression(random_state=0, solver='lbfgs', max_iter=10000, C=0.9)\n",
    "newcls.fit(trainDataVecs, y_train)\n",
    "newcls.score(devDataVecs, y_dev)"
   ]
  },
  {
   "cell_type": "code",
   "execution_count": null,
   "id": "ffc0aaae",
   "metadata": {},
   "outputs": [],
   "source": []
  },
  {
   "cell_type": "code",
   "execution_count": null,
   "id": "487573fa",
   "metadata": {},
   "outputs": [],
   "source": []
  },
  {
   "cell_type": "markdown",
   "id": "8c3beb69",
   "metadata": {},
   "source": [
    "### 2.2.3 Using pretrained model"
   ]
  },
  {
   "cell_type": "code",
   "execution_count": 192,
   "id": "eada72f0",
   "metadata": {},
   "outputs": [],
   "source": [
    "model_glove = gensim.models.KeyedVectors.load_word2vec_format(\"./glove.txt\",binary=False) #GloVe Model"
   ]
  },
  {
   "cell_type": "code",
   "execution_count": 300,
   "id": "acc56930",
   "metadata": {},
   "outputs": [
    {
     "data": {
      "text/plain": [
       "[('better', 0.9284391403198242),\n",
       " ('really', 0.9220624566078186),\n",
       " ('always', 0.9165270924568176),\n",
       " ('sure', 0.903351366519928),\n",
       " ('something', 0.901420533657074),\n",
       " ('think', 0.8982065320014954),\n",
       " ('way', 0.8953989744186401),\n",
       " ('thing', 0.894504964351654),\n",
       " ('little', 0.8941226005554199),\n",
       " ('very', 0.8919912576675415)]"
      ]
     },
     "execution_count": 300,
     "metadata": {},
     "output_type": "execute_result"
    }
   ],
   "source": [
    "model_glove.most_similar(\"good\")"
   ]
  },
  {
   "cell_type": "code",
   "execution_count": 308,
   "id": "a9dc1e87",
   "metadata": {},
   "outputs": [],
   "source": [
    "num_features2 = 50\n",
    "trainGloveVecs = getAvgFeatureVecs(train_reviews, model_glove, num_features2, True)\n",
    "devGloveVecs = getAvgFeatureVecs(dev_reviews, model_glove, num_features2, True)"
   ]
  },
  {
   "cell_type": "code",
   "execution_count": 310,
   "id": "e7cc3d22",
   "metadata": {},
   "outputs": [
    {
     "name": "stdout",
     "output_type": "stream",
     "text": [
      "LogisticRegression(C=1.9999999999999996, max_iter=10000, random_state=0)\n"
     ]
    }
   ],
   "source": [
    "find_bestc(trainGloveVecs, devGloveVecs)"
   ]
  },
  {
   "cell_type": "code",
   "execution_count": 311,
   "id": "646109ed",
   "metadata": {},
   "outputs": [
    {
     "data": {
      "text/plain": [
       "0.7238095238095238"
      ]
     },
     "execution_count": 311,
     "metadata": {},
     "output_type": "execute_result"
    }
   ],
   "source": [
    "cls_glove = LogisticRegression(random_state=0, solver='lbfgs', max_iter=10000,C=2)\n",
    "cls_glove.fit(trainGloveVecs, y_train)\n",
    "cls_glove.score(devGloveVecs, y_dev)"
   ]
  },
  {
   "cell_type": "code",
   "execution_count": null,
   "id": "8491e31e",
   "metadata": {},
   "outputs": [],
   "source": []
  },
  {
   "cell_type": "code",
   "execution_count": null,
   "id": "682e4e49",
   "metadata": {},
   "outputs": [],
   "source": []
  }
 ],
 "metadata": {
  "kernelspec": {
   "display_name": "Python 3 (ipykernel)",
   "language": "python",
   "name": "python3"
  },
  "language_info": {
   "codemirror_mode": {
    "name": "ipython",
    "version": 3
   },
   "file_extension": ".py",
   "mimetype": "text/x-python",
   "name": "python",
   "nbconvert_exporter": "python",
   "pygments_lexer": "ipython3",
   "version": "3.9.7"
  }
 },
 "nbformat": 4,
 "nbformat_minor": 5
}
